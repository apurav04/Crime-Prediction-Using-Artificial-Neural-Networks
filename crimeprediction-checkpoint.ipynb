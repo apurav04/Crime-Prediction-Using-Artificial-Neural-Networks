{
 "cells": [
  {
   "cell_type": "code",
   "execution_count": null,
   "id": "6cae42b6-277b-4ac9-9dd6-0403ac0d8e05",
   "metadata": {},
   "outputs": [],
   "source": [
    "\n",
    "import pandas as pd\n",
    "import numpy as np\n",
    "import matplotlib.pyplot as plt\n",
    "import seaborn as sns\n",
    "from sklearn.preprocessing import MinMaxScaler\n",
    "from sklearn.model_selection import train_test_split\n",
    "from keras.models import Sequential\n",
    "from keras.layers import Dense, Dropout, Flatten\n",
    "\n"
   ]
  },
  {
   "cell_type": "code",
   "execution_count": null,
   "id": "82c7bde7-ff7c-4e5b-8893-84135cfe9a66",
   "metadata": {},
   "outputs": [],
   "source": [
    "crime_data=pd.read_csv(\"crime.csv\")"
   ]
  },
  {
   "cell_type": "code",
   "execution_count": 25,
   "id": "3d8ac447-2e42-48ab-9c27-7f727f464b86",
   "metadata": {},
   "outputs": [
    {
     "data": {
      "text/html": [
       "<div>\n",
       "<style scoped>\n",
       "    .dataframe tbody tr th:only-of-type {\n",
       "        vertical-align: middle;\n",
       "    }\n",
       "\n",
       "    .dataframe tbody tr th {\n",
       "        vertical-align: top;\n",
       "    }\n",
       "\n",
       "    .dataframe thead th {\n",
       "        text-align: right;\n",
       "    }\n",
       "</style>\n",
       "<table border=\"1\" class=\"dataframe\">\n",
       "  <thead>\n",
       "    <tr style=\"text-align: right;\">\n",
       "      <th></th>\n",
       "      <th>TYPE</th>\n",
       "      <th>YEAR</th>\n",
       "      <th>MONTH</th>\n",
       "      <th>DAY</th>\n",
       "      <th>HOUR</th>\n",
       "      <th>MINUTE</th>\n",
       "      <th>HUNDRED_BLOCK</th>\n",
       "      <th>NEIGHBOURHOOD</th>\n",
       "      <th>X</th>\n",
       "      <th>Y</th>\n",
       "      <th>Latitude</th>\n",
       "      <th>Longitude</th>\n",
       "      <th>Neighbourhood</th>\n",
       "      <th>Graffiti</th>\n",
       "      <th>Drinking_Fountain</th>\n",
       "      <th>Google_Trends</th>\n",
       "    </tr>\n",
       "  </thead>\n",
       "  <tbody>\n",
       "    <tr>\n",
       "      <th>0</th>\n",
       "      <td>Theft from Vehicle</td>\n",
       "      <td>2004</td>\n",
       "      <td>10</td>\n",
       "      <td>8</td>\n",
       "      <td>21.0</td>\n",
       "      <td>0.0</td>\n",
       "      <td>6XX W 7TH AVE</td>\n",
       "      <td>Fairview</td>\n",
       "      <td>491380.57</td>\n",
       "      <td>5456930.51</td>\n",
       "      <td>49.265076</td>\n",
       "      <td>-123.118474</td>\n",
       "      <td>Fairview</td>\n",
       "      <td>0.040765</td>\n",
       "      <td>0.402295</td>\n",
       "      <td>72</td>\n",
       "    </tr>\n",
       "    <tr>\n",
       "      <th>1</th>\n",
       "      <td>Break and Enter Residential/Other</td>\n",
       "      <td>2004</td>\n",
       "      <td>7</td>\n",
       "      <td>30</td>\n",
       "      <td>7.0</td>\n",
       "      <td>45.0</td>\n",
       "      <td>20XX E 50TH AVE</td>\n",
       "      <td>Victoria-Fraserview</td>\n",
       "      <td>495316.20</td>\n",
       "      <td>5452366.53</td>\n",
       "      <td>49.224065</td>\n",
       "      <td>-123.064326</td>\n",
       "      <td>Victoria-Fraserview</td>\n",
       "      <td>0.075625</td>\n",
       "      <td>0.713125</td>\n",
       "      <td>96</td>\n",
       "    </tr>\n",
       "    <tr>\n",
       "      <th>2</th>\n",
       "      <td>Theft from Vehicle</td>\n",
       "      <td>2004</td>\n",
       "      <td>10</td>\n",
       "      <td>8</td>\n",
       "      <td>21.0</td>\n",
       "      <td>30.0</td>\n",
       "      <td>6XX W 7TH AVE</td>\n",
       "      <td>Fairview</td>\n",
       "      <td>491380.57</td>\n",
       "      <td>5456930.51</td>\n",
       "      <td>49.265076</td>\n",
       "      <td>-123.118474</td>\n",
       "      <td>Fairview</td>\n",
       "      <td>0.040765</td>\n",
       "      <td>0.402295</td>\n",
       "      <td>72</td>\n",
       "    </tr>\n",
       "    <tr>\n",
       "      <th>3</th>\n",
       "      <td>Break and Enter Residential/Other</td>\n",
       "      <td>2004</td>\n",
       "      <td>6</td>\n",
       "      <td>12</td>\n",
       "      <td>23.0</td>\n",
       "      <td>59.0</td>\n",
       "      <td>8XX GREENCHAIN ST</td>\n",
       "      <td>Fairview</td>\n",
       "      <td>491113.34</td>\n",
       "      <td>5457172.06</td>\n",
       "      <td>49.267245</td>\n",
       "      <td>-123.122153</td>\n",
       "      <td>Fairview</td>\n",
       "      <td>0.174604</td>\n",
       "      <td>0.285012</td>\n",
       "      <td>81</td>\n",
       "    </tr>\n",
       "    <tr>\n",
       "      <th>4</th>\n",
       "      <td>Theft from Vehicle</td>\n",
       "      <td>2004</td>\n",
       "      <td>1</td>\n",
       "      <td>16</td>\n",
       "      <td>0.0</td>\n",
       "      <td>0.0</td>\n",
       "      <td>6XX W 7TH AVE</td>\n",
       "      <td>Fairview</td>\n",
       "      <td>491399.54</td>\n",
       "      <td>5456929.87</td>\n",
       "      <td>49.265071</td>\n",
       "      <td>-123.118213</td>\n",
       "      <td>Fairview</td>\n",
       "      <td>0.057692</td>\n",
       "      <td>0.383430</td>\n",
       "      <td>74</td>\n",
       "    </tr>\n",
       "  </tbody>\n",
       "</table>\n",
       "</div>"
      ],
      "text/plain": [
       "                                TYPE  YEAR  MONTH  DAY  HOUR  MINUTE  \\\n",
       "0                 Theft from Vehicle  2004     10    8  21.0     0.0   \n",
       "1  Break and Enter Residential/Other  2004      7   30   7.0    45.0   \n",
       "2                 Theft from Vehicle  2004     10    8  21.0    30.0   \n",
       "3  Break and Enter Residential/Other  2004      6   12  23.0    59.0   \n",
       "4                 Theft from Vehicle  2004      1   16   0.0     0.0   \n",
       "\n",
       "       HUNDRED_BLOCK        NEIGHBOURHOOD          X           Y   Latitude  \\\n",
       "0      6XX W 7TH AVE             Fairview  491380.57  5456930.51  49.265076   \n",
       "1    20XX E 50TH AVE  Victoria-Fraserview  495316.20  5452366.53  49.224065   \n",
       "2      6XX W 7TH AVE             Fairview  491380.57  5456930.51  49.265076   \n",
       "3  8XX GREENCHAIN ST             Fairview  491113.34  5457172.06  49.267245   \n",
       "4      6XX W 7TH AVE             Fairview  491399.54  5456929.87  49.265071   \n",
       "\n",
       "    Longitude        Neighbourhood  Graffiti  Drinking_Fountain  Google_Trends  \n",
       "0 -123.118474             Fairview  0.040765           0.402295             72  \n",
       "1 -123.064326  Victoria-Fraserview  0.075625           0.713125             96  \n",
       "2 -123.118474             Fairview  0.040765           0.402295             72  \n",
       "3 -123.122153             Fairview  0.174604           0.285012             81  \n",
       "4 -123.118213             Fairview  0.057692           0.383430             74  "
      ]
     },
     "execution_count": 25,
     "metadata": {},
     "output_type": "execute_result"
    }
   ],
   "source": [
    "#Analysing_the_dataset\n",
    "crime_data.head()"
   ]
  },
  {
   "cell_type": "code",
   "execution_count": 26,
   "id": "3269308e-814b-4c16-8fa5-392a48d2f19c",
   "metadata": {},
   "outputs": [
    {
     "data": {
      "text/plain": [
       "(428141, 16)"
      ]
     },
     "execution_count": 26,
     "metadata": {},
     "output_type": "execute_result"
    }
   ],
   "source": [
    "crime_data.shape"
   ]
  },
  {
   "cell_type": "code",
   "execution_count": 27,
   "id": "b7f36979-76de-490e-aef3-e51e3abbecac",
   "metadata": {},
   "outputs": [
    {
     "name": "stdout",
     "output_type": "stream",
     "text": [
      "<class 'pandas.core.frame.DataFrame'>\n",
      "Int64Index: 428141 entries, 0 to 480723\n",
      "Data columns (total 16 columns):\n",
      " #   Column             Non-Null Count   Dtype  \n",
      "---  ------             --------------   -----  \n",
      " 0   TYPE               428141 non-null  object \n",
      " 1   YEAR               428141 non-null  int64  \n",
      " 2   MONTH              428141 non-null  int64  \n",
      " 3   DAY                428141 non-null  int64  \n",
      " 4   HOUR               428141 non-null  float64\n",
      " 5   MINUTE             428141 non-null  float64\n",
      " 6   HUNDRED_BLOCK      428130 non-null  object \n",
      " 7   NEIGHBOURHOOD      428141 non-null  object \n",
      " 8   X                  428141 non-null  float64\n",
      " 9   Y                  428141 non-null  float64\n",
      " 10  Latitude           428141 non-null  float64\n",
      " 11  Longitude          428141 non-null  float64\n",
      " 12  Neighbourhood      428141 non-null  object \n",
      " 13  Graffiti           428141 non-null  float64\n",
      " 14  Drinking_Fountain  428141 non-null  float64\n",
      " 15  Google_Trends      428141 non-null  int64  \n",
      "dtypes: float64(8), int64(4), object(4)\n",
      "memory usage: 55.5+ MB\n"
     ]
    }
   ],
   "source": [
    "crime_data.info()"
   ]
  },
  {
   "cell_type": "code",
   "execution_count": 28,
   "id": "fc126c32-332b-4b6e-b312-9a36259cad38",
   "metadata": {},
   "outputs": [
    {
     "data": {
      "text/html": [
       "<div>\n",
       "<style scoped>\n",
       "    .dataframe tbody tr th:only-of-type {\n",
       "        vertical-align: middle;\n",
       "    }\n",
       "\n",
       "    .dataframe tbody tr th {\n",
       "        vertical-align: top;\n",
       "    }\n",
       "\n",
       "    .dataframe thead th {\n",
       "        text-align: right;\n",
       "    }\n",
       "</style>\n",
       "<table border=\"1\" class=\"dataframe\">\n",
       "  <thead>\n",
       "    <tr style=\"text-align: right;\">\n",
       "      <th></th>\n",
       "      <th>YEAR</th>\n",
       "      <th>MONTH</th>\n",
       "      <th>DAY</th>\n",
       "      <th>HOUR</th>\n",
       "      <th>MINUTE</th>\n",
       "      <th>X</th>\n",
       "      <th>Y</th>\n",
       "      <th>Latitude</th>\n",
       "      <th>Longitude</th>\n",
       "      <th>Graffiti</th>\n",
       "      <th>Drinking_Fountain</th>\n",
       "      <th>Google_Trends</th>\n",
       "    </tr>\n",
       "  </thead>\n",
       "  <tbody>\n",
       "    <tr>\n",
       "      <th>count</th>\n",
       "      <td>428141.000000</td>\n",
       "      <td>428141.000000</td>\n",
       "      <td>428141.000000</td>\n",
       "      <td>428141.000000</td>\n",
       "      <td>428141.000000</td>\n",
       "      <td>428141.000000</td>\n",
       "      <td>4.281410e+05</td>\n",
       "      <td>428141.000000</td>\n",
       "      <td>428141.000000</td>\n",
       "      <td>428141.000000</td>\n",
       "      <td>428141.000000</td>\n",
       "      <td>428141.000000</td>\n",
       "    </tr>\n",
       "    <tr>\n",
       "      <th>mean</th>\n",
       "      <td>2009.838726</td>\n",
       "      <td>6.447098</td>\n",
       "      <td>15.385259</td>\n",
       "      <td>13.711660</td>\n",
       "      <td>17.186537</td>\n",
       "      <td>492234.037265</td>\n",
       "      <td>5.456651e+06</td>\n",
       "      <td>49.262570</td>\n",
       "      <td>-123.106741</td>\n",
       "      <td>0.099434</td>\n",
       "      <td>0.322949</td>\n",
       "      <td>69.947088</td>\n",
       "    </tr>\n",
       "    <tr>\n",
       "      <th>std</th>\n",
       "      <td>4.133648</td>\n",
       "      <td>3.397589</td>\n",
       "      <td>8.724281</td>\n",
       "      <td>6.739142</td>\n",
       "      <td>18.497081</td>\n",
       "      <td>2743.145958</td>\n",
       "      <td>2.496365e+03</td>\n",
       "      <td>0.022452</td>\n",
       "      <td>0.037705</td>\n",
       "      <td>0.148622</td>\n",
       "      <td>0.206937</td>\n",
       "      <td>11.554152</td>\n",
       "    </tr>\n",
       "    <tr>\n",
       "      <th>min</th>\n",
       "      <td>2004.000000</td>\n",
       "      <td>1.000000</td>\n",
       "      <td>1.000000</td>\n",
       "      <td>0.000000</td>\n",
       "      <td>0.000000</td>\n",
       "      <td>483709.640000</td>\n",
       "      <td>5.449797e+06</td>\n",
       "      <td>49.200897</td>\n",
       "      <td>-123.223955</td>\n",
       "      <td>0.001700</td>\n",
       "      <td>0.003454</td>\n",
       "      <td>48.000000</td>\n",
       "    </tr>\n",
       "    <tr>\n",
       "      <th>25%</th>\n",
       "      <td>2006.000000</td>\n",
       "      <td>4.000000</td>\n",
       "      <td>8.000000</td>\n",
       "      <td>9.000000</td>\n",
       "      <td>0.000000</td>\n",
       "      <td>490604.150000</td>\n",
       "      <td>5.455136e+06</td>\n",
       "      <td>49.248939</td>\n",
       "      <td>-123.129172</td>\n",
       "      <td>0.031127</td>\n",
       "      <td>0.176941</td>\n",
       "      <td>62.000000</td>\n",
       "    </tr>\n",
       "    <tr>\n",
       "      <th>50%</th>\n",
       "      <td>2009.000000</td>\n",
       "      <td>6.000000</td>\n",
       "      <td>15.000000</td>\n",
       "      <td>15.000000</td>\n",
       "      <td>11.000000</td>\n",
       "      <td>491773.940000</td>\n",
       "      <td>5.457236e+06</td>\n",
       "      <td>49.267837</td>\n",
       "      <td>-123.113100</td>\n",
       "      <td>0.048151</td>\n",
       "      <td>0.281014</td>\n",
       "      <td>68.000000</td>\n",
       "    </tr>\n",
       "    <tr>\n",
       "      <th>75%</th>\n",
       "      <td>2014.000000</td>\n",
       "      <td>9.000000</td>\n",
       "      <td>23.000000</td>\n",
       "      <td>19.000000</td>\n",
       "      <td>30.000000</td>\n",
       "      <td>494084.110000</td>\n",
       "      <td>5.458715e+06</td>\n",
       "      <td>49.281157</td>\n",
       "      <td>-123.081295</td>\n",
       "      <td>0.111368</td>\n",
       "      <td>0.427603</td>\n",
       "      <td>77.000000</td>\n",
       "    </tr>\n",
       "    <tr>\n",
       "      <th>max</th>\n",
       "      <td>2017.000000</td>\n",
       "      <td>12.000000</td>\n",
       "      <td>31.000000</td>\n",
       "      <td>23.000000</td>\n",
       "      <td>59.000000</td>\n",
       "      <td>498306.000000</td>\n",
       "      <td>5.462300e+06</td>\n",
       "      <td>49.313349</td>\n",
       "      <td>-123.023289</td>\n",
       "      <td>2.289647</td>\n",
       "      <td>2.239759</td>\n",
       "      <td>100.000000</td>\n",
       "    </tr>\n",
       "  </tbody>\n",
       "</table>\n",
       "</div>"
      ],
      "text/plain": [
       "                YEAR          MONTH            DAY           HOUR  \\\n",
       "count  428141.000000  428141.000000  428141.000000  428141.000000   \n",
       "mean     2009.838726       6.447098      15.385259      13.711660   \n",
       "std         4.133648       3.397589       8.724281       6.739142   \n",
       "min      2004.000000       1.000000       1.000000       0.000000   \n",
       "25%      2006.000000       4.000000       8.000000       9.000000   \n",
       "50%      2009.000000       6.000000      15.000000      15.000000   \n",
       "75%      2014.000000       9.000000      23.000000      19.000000   \n",
       "max      2017.000000      12.000000      31.000000      23.000000   \n",
       "\n",
       "              MINUTE              X             Y       Latitude  \\\n",
       "count  428141.000000  428141.000000  4.281410e+05  428141.000000   \n",
       "mean       17.186537  492234.037265  5.456651e+06      49.262570   \n",
       "std        18.497081    2743.145958  2.496365e+03       0.022452   \n",
       "min         0.000000  483709.640000  5.449797e+06      49.200897   \n",
       "25%         0.000000  490604.150000  5.455136e+06      49.248939   \n",
       "50%        11.000000  491773.940000  5.457236e+06      49.267837   \n",
       "75%        30.000000  494084.110000  5.458715e+06      49.281157   \n",
       "max        59.000000  498306.000000  5.462300e+06      49.313349   \n",
       "\n",
       "           Longitude       Graffiti  Drinking_Fountain  Google_Trends  \n",
       "count  428141.000000  428141.000000      428141.000000  428141.000000  \n",
       "mean     -123.106741       0.099434           0.322949      69.947088  \n",
       "std         0.037705       0.148622           0.206937      11.554152  \n",
       "min      -123.223955       0.001700           0.003454      48.000000  \n",
       "25%      -123.129172       0.031127           0.176941      62.000000  \n",
       "50%      -123.113100       0.048151           0.281014      68.000000  \n",
       "75%      -123.081295       0.111368           0.427603      77.000000  \n",
       "max      -123.023289       2.289647           2.239759     100.000000  "
      ]
     },
     "execution_count": 28,
     "metadata": {},
     "output_type": "execute_result"
    }
   ],
   "source": [
    "crime_data.describe()"
   ]
  },
  {
   "cell_type": "code",
   "execution_count": 29,
   "id": "72764641-868c-4582-9df8-84c11b6aca57",
   "metadata": {},
   "outputs": [
    {
     "data": {
      "text/plain": [
       "Text(0.5, 1.0, 'Number of different crimes')"
      ]
     },
     "execution_count": 29,
     "metadata": {},
     "output_type": "execute_result"
    },
    {
     "data": {
      "image/png": "[encoded data removed]",
      "text/plain": [
       "<Figure size 432x288 with 1 Axes>"
      ]
     },
     "metadata": {
      "needs_background": "light"
     },
     "output_type": "display_data"
    }
   ],
   "source": [
    "ax = sns.countplot(y=\"TYPE\", data=crime_data)\n",
    "ax.set_xlabel('Number of Crimes')\n",
    "ax.set_ylabel('Type of Crimes')\n",
    "ax.set_title('Number of different crimes')"
   ]
  },
  {
   "cell_type": "code",
   "execution_count": 30,
   "id": "8e547580-02d7-457b-9172-fd929ec43b9f",
   "metadata": {},
   "outputs": [
    {
     "data": {
      "text/plain": [
       "Text(0.5, 1.0, 'Number of crimes in different Years')"
      ]
     },
     "execution_count": 30,
     "metadata": {},
     "output_type": "execute_result"
    },
    {
     "data": {
      "image/png": "[encoded data removed]",
      "text/plain": [
       "<Figure size 432x288 with 1 Axes>"
      ]
     },
     "metadata": {
      "needs_background": "light"
     },
     "output_type": "display_data"
    }
   ],
   "source": [
    "ax = sns.countplot(x=\"YEAR\", data=crime_data)\n",
    "ax.set_ylabel('Nummber of Crimes')\n",
    "ax.set_xlabel('YEAR')\n",
    "ax.set_title('Number of crimes in different Years')"
   ]
  },
  {
   "cell_type": "code",
   "execution_count": 31,
   "id": "403f9856-6209-4614-8179-963cc09bf040",
   "metadata": {},
   "outputs": [
    {
     "data": {
      "text/plain": [
       "Text(0.5, 1.0, 'Number of crimes in different Months')"
      ]
     },
     "execution_count": 31,
     "metadata": {},
     "output_type": "execute_result"
    },
    {
     "data": {
      "image/png": "[encoded data removed]",
      "text/plain": [
       "<Figure size 432x288 with 1 Axes>"
      ]
     },
     "metadata": {
      "needs_background": "light"
     },
     "output_type": "display_data"
    }
   ],
   "source": [
    "ax = sns.countplot(x=\"MONTH\", data=crime_data)\n",
    "ax.set_ylabel('Number of Crimes')\n",
    "ax.set_xlabel('MONTH')\n",
    "ax.set_title('Number of crimes in different Months')\n"
   ]
  },
  {
   "cell_type": "code",
   "execution_count": 32,
   "id": "2e46ac73-50e1-4af5-b459-f9aa85c5695b",
   "metadata": {},
   "outputs": [
    {
     "data": {
      "text/plain": [
       "Text(0.5, 1.0, 'Number of crimes in different Days')"
      ]
     },
     "execution_count": 32,
     "metadata": {},
     "output_type": "execute_result"
    },
    {
     "data": {
      "image/png": "[encoded data removed]",
      "text/plain": [
       "<Figure size 432x288 with 1 Axes>"
      ]
     },
     "metadata": {
      "needs_background": "light"
     },
     "output_type": "display_data"
    }
   ],
   "source": [
    "ax = sns.countplot(x=\"DAY\", data=crime_data)\n",
    "ax.set_ylabel('Number of Crimes')\n",
    "ax.set_xlabel('DAYS')\n",
    "ax.set_title('Number of crimes in different Days')"
   ]
  },
  {
   "cell_type": "code",
   "execution_count": 33,
   "id": "528f588a-0685-4833-a9c4-28e20330c6d1",
   "metadata": {},
   "outputs": [
    {
     "data": {
      "text/plain": [
       "Text(0.5, 1.0, 'Number of crimes in different Hours')"
      ]
     },
     "execution_count": 33,
     "metadata": {},
     "output_type": "execute_result"
    },
    {
     "data": {
      "image/png": "[encoded data removed]",
      "text/plain": [
       "<Figure size 432x288 with 1 Axes>"
      ]
     },
     "metadata": {
      "needs_background": "light"
     },
     "output_type": "display_data"
    }
   ],
   "source": [
    "ax = sns.countplot(y=\"HOUR\", data=crime_data)\n",
    "ax.set_xlabel('Number of crimes')\n",
    "ax.set_ylabel('HOURS')\n",
    "ax.set_title('Number of crimes in different Hours')"
   ]
  },
  {
   "cell_type": "code",
   "execution_count": 34,
   "id": "51ee3ffb-5770-461e-b553-e398cfb3a9ed",
   "metadata": {},
   "outputs": [
    {
     "data": {
      "text/plain": [
       "Central Business District    101129\n",
       "West End                      36579\n",
       "Fairview                      28685\n",
       "Mount Pleasant                28133\n",
       "Renfrew-Collingwood           24435\n",
       "Grandview-Woodland            24040\n",
       "Kitsilano                     23750\n",
       "Kensington-Cedar Cottage      22711\n",
       "Strathcona                    19120\n",
       "Hastings-Sunrise              16247\n",
       "Sunset                        15483\n",
       "Marpole                       11850\n",
       "Riley Park                    11385\n",
       "Victoria-Fraserview            9720\n",
       "Killarney                      9516\n",
       "Oakridge                       7380\n",
       "Dunbar-Southlands              6973\n",
       "Kerrisdale                     6819\n",
       "Arbutus Ridge                  5450\n",
       "West Point Grey                5319\n",
       "Shaughnessy                    4907\n",
       "South Cambie                   4684\n",
       "Stanley Park                   3352\n",
       "Musqueam                        474\n",
       "Name: NEIGHBOURHOOD, dtype: int64"
      ]
     },
     "execution_count": 34,
     "metadata": {},
     "output_type": "execute_result"
    }
   ],
   "source": [
    "cols=['Arbutus-Ridge', 'Downtown', 'Dunbar-Southlands', 'Fairview',\n",
    "       'Grandview-Woodland', 'Hastings-Sunrise', 'Kensington-Cedar Cottage',\n",
    "       'Kerrisdale', 'Killarney', 'Kitsilano', 'Marpole', 'Mount Pleasant',\n",
    "       'Oakridge', 'Renfrew-Collingwood', 'Riley Park', 'Shaughnessy',\n",
    "       'South Cambie', 'Strathcona', 'Sunset', 'Victoria-Fraserview',\n",
    "       'West End', 'West Point Grey']\n",
    "df=crime_data['NEIGHBOURHOOD'].value_counts()\n",
    "df\n"
   ]
  },
  {
   "cell_type": "code",
   "execution_count": 35,
   "id": "82c1c695-cb0b-4a3c-b7e6-fe85ce04d987",
   "metadata": {},
   "outputs": [
    {
     "data": {
      "text/plain": [
       "Text(0.5, 1.0, 'Crimes in Different Neighbourhood of Vancuvour')"
      ]
     },
     "execution_count": 35,
     "metadata": {},
     "output_type": "execute_result"
    },
    {
     "data": {
      "image/png": "[encoded data removed]",
      "text/plain": [
       "<Figure size 432x288 with 1 Axes>"
      ]
     },
     "metadata": {
      "needs_background": "light"
     },
     "output_type": "display_data"
    }
   ],
   "source": [
    "#sns.countplot(crime_data['Neighbourhood'],orient='v')\n",
    "ax = sns.countplot(y=\"NEIGHBOURHOOD\", data=crime_data)\n",
    "ax.set_xlabel('No. of crimes')\n",
    "ax.set_ylabel('City Name')\n",
    "ax.set_title('Crimes in Different Neighbourhood of Vancuvour')\n"
   ]
  },
  {
   "cell_type": "code",
   "execution_count": 36,
   "id": "a561ce92-4f74-450a-a033-3ecae099b83a",
   "metadata": {},
   "outputs": [
    {
     "data": {
      "text/plain": [
       "TYPE                  0\n",
       "YEAR                  0\n",
       "MONTH                 0\n",
       "DAY                   0\n",
       "HOUR                  0\n",
       "MINUTE                0\n",
       "HUNDRED_BLOCK        11\n",
       "NEIGHBOURHOOD         0\n",
       "X                     0\n",
       "Y                     0\n",
       "Latitude              0\n",
       "Longitude             0\n",
       "Neighbourhood         0\n",
       "Graffiti              0\n",
       "Drinking_Fountain     0\n",
       "Google_Trends         0\n",
       "dtype: int64"
      ]
     },
     "execution_count": 36,
     "metadata": {},
     "output_type": "execute_result"
    }
   ],
   "source": [
    "#DATA_PREPROCESSING\n",
    "crime_data.isnull().sum()"
   ]
  },
  {
   "cell_type": "code",
   "execution_count": 37,
   "id": "6328d820-d8ac-4f8a-81bb-9d822203a3ff",
   "metadata": {},
   "outputs": [],
   "source": [
    "crime_data.dropna(subset=['NEIGHBOURHOOD'],inplace=True)"
   ]
  },
  {
   "cell_type": "code",
   "execution_count": 38,
   "id": "03a250dd-1838-422e-9db7-43f482a5694b",
   "metadata": {},
   "outputs": [
    {
     "data": {
      "text/plain": [
       "(428141, 16)"
      ]
     },
     "execution_count": 38,
     "metadata": {},
     "output_type": "execute_result"
    }
   ],
   "source": [
    "crime_data.shape"
   ]
  },
  {
   "cell_type": "code",
   "execution_count": 39,
   "id": "037f5034-90d3-4ad7-ad52-abc8b70b34d4",
   "metadata": {},
   "outputs": [
    {
     "data": {
      "text/plain": [
       "Index(['TYPE', 'YEAR', 'MONTH', 'DAY', 'HOUR', 'MINUTE', 'HUNDRED_BLOCK',\n",
       "       'NEIGHBOURHOOD', 'X', 'Y', 'Latitude', 'Longitude', 'Neighbourhood',\n",
       "       'Graffiti', 'Drinking_Fountain', 'Google_Trends'],\n",
       "      dtype='object')"
      ]
     },
     "execution_count": 39,
     "metadata": {},
     "output_type": "execute_result"
    }
   ],
   "source": [
    "#DATA_PREPROCESSING\n",
    "crime_data.columns"
   ]
  },
  {
   "cell_type": "code",
   "execution_count": 40,
   "id": "a2fb2bf7-9bff-49f6-864d-31666dcc9ba3",
   "metadata": {},
   "outputs": [
    {
     "data": {
      "text/html": [
       "<div>\n",
       "<style scoped>\n",
       "    .dataframe tbody tr th:only-of-type {\n",
       "        vertical-align: middle;\n",
       "    }\n",
       "\n",
       "    .dataframe tbody tr th {\n",
       "        vertical-align: top;\n",
       "    }\n",
       "\n",
       "    .dataframe thead th {\n",
       "        text-align: right;\n",
       "    }\n",
       "</style>\n",
       "<table border=\"1\" class=\"dataframe\">\n",
       "  <thead>\n",
       "    <tr style=\"text-align: right;\">\n",
       "      <th></th>\n",
       "      <th>MAPID</th>\n",
       "      <th>NAME</th>\n",
       "      <th>Latitude</th>\n",
       "      <th>Longitude</th>\n",
       "    </tr>\n",
       "  </thead>\n",
       "  <tbody>\n",
       "    <tr>\n",
       "      <th>0</th>\n",
       "      <td>SUN</td>\n",
       "      <td>Sunset</td>\n",
       "      <td>49.218650</td>\n",
       "      <td>-123.091376</td>\n",
       "    </tr>\n",
       "    <tr>\n",
       "      <th>1</th>\n",
       "      <td>MP</td>\n",
       "      <td>Mount Pleasant</td>\n",
       "      <td>49.263060</td>\n",
       "      <td>-123.099888</td>\n",
       "    </tr>\n",
       "    <tr>\n",
       "      <th>2</th>\n",
       "      <td>RP</td>\n",
       "      <td>Riley Park</td>\n",
       "      <td>49.244679</td>\n",
       "      <td>-123.103239</td>\n",
       "    </tr>\n",
       "    <tr>\n",
       "      <th>3</th>\n",
       "      <td>CBD</td>\n",
       "      <td>Downtown</td>\n",
       "      <td>49.279255</td>\n",
       "      <td>-123.119137</td>\n",
       "    </tr>\n",
       "    <tr>\n",
       "      <th>4</th>\n",
       "      <td>KITS</td>\n",
       "      <td>Kitsilano</td>\n",
       "      <td>49.265663</td>\n",
       "      <td>-123.166947</td>\n",
       "    </tr>\n",
       "  </tbody>\n",
       "</table>\n",
       "</div>"
      ],
      "text/plain": [
       "  MAPID            NAME   Latitude   Longitude\n",
       "0   SUN          Sunset  49.218650 -123.091376\n",
       "1    MP  Mount Pleasant  49.263060 -123.099888\n",
       "2    RP      Riley Park  49.244679 -123.103239\n",
       "3   CBD        Downtown  49.279255 -123.119137\n",
       "4  KITS       Kitsilano  49.265663 -123.166947"
      ]
     },
     "execution_count": 40,
     "metadata": {},
     "output_type": "execute_result"
    }
   ],
   "source": [
    "\n",
    "neighbourhoods=pd.read_csv(\"cov_localareas.csv\")\n",
    "neighbourhoods.head()"
   ]
  },
  {
   "cell_type": "code",
   "execution_count": 41,
   "id": "68931b3a-85a7-45e7-a756-ef55a0ff4d3c",
   "metadata": {},
   "outputs": [
    {
     "data": {
      "text/plain": [
       "0                       Sunset\n",
       "1               Mount Pleasant\n",
       "2                   Riley Park\n",
       "3                     Downtown\n",
       "4                    Kitsilano\n",
       "5            Dunbar-Southlands\n",
       "6                   Kerrisdale\n",
       "7                Arbutus-Ridge\n",
       "8              West Point Grey\n",
       "9                      Marpole\n",
       "10                    Oakridge\n",
       "11                 Shaughnessy\n",
       "12                    Fairview\n",
       "13                South Cambie\n",
       "14                    West End\n",
       "15                   Killarney\n",
       "16         Renfrew-Collingwood\n",
       "17            Hastings-Sunrise\n",
       "18         Victoria-Fraserview\n",
       "19    Kensington-Cedar Cottage\n",
       "20                  Strathcona\n",
       "21          Grandview-Woodland\n",
       "Name: NAME, dtype: object"
      ]
     },
     "execution_count": 41,
     "metadata": {},
     "output_type": "execute_result"
    }
   ],
   "source": [
    "# getting only the names of i.e list of names of neighbourhoods around city of vancouver\n",
    "neighbourhoods=neighbourhoods['NAME']\n",
    "neighbourhoods"
   ]
  },
  {
   "cell_type": "code",
   "execution_count": 42,
   "id": "6839dfc6-df04-4f85-9a09-53a2f49d704e",
   "metadata": {},
   "outputs": [
    {
     "data": {
      "text/plain": [
       "(428141, 5)"
      ]
     },
     "execution_count": 42,
     "metadata": {},
     "output_type": "execute_result"
    }
   ],
   "source": [
    "# getting the data of columns year,month,date,hour,neighbourhood \n",
    "# which will be used further\n",
    "crime_data_1=crime_data[['YEAR','MONTH','DAY','HOUR','NEIGHBOURHOOD']]\n",
    "crime_data_1.shape"
   ]
  },
  {
   "cell_type": "code",
   "execution_count": 43,
   "id": "d36f529d-9dc6-454f-8c33-4b8bbf6ab381",
   "metadata": {},
   "outputs": [
    {
     "name": "stderr",
     "output_type": "stream",
     "text": [
      "C:\\Users\\APURAV~1\\AppData\\Local\\Temp/ipykernel_2180/2275271267.py:5: SettingWithCopyWarning: \n",
      "A value is trying to be set on a copy of a slice from a DataFrame.\n",
      "Try using .loc[row_indexer,col_indexer] = value instead\n",
      "\n",
      "See the caveats in the documentation: https://pandas.pydata.org/pandas-docs/stable/user_guide/indexing.html#returning-a-view-versus-a-copy\n",
      "  crime_data_1['Date-Time']=date_time_col\n"
     ]
    },
    {
     "data": {
      "text/html": [
       "<div>\n",
       "<style scoped>\n",
       "    .dataframe tbody tr th:only-of-type {\n",
       "        vertical-align: middle;\n",
       "    }\n",
       "\n",
       "    .dataframe tbody tr th {\n",
       "        vertical-align: top;\n",
       "    }\n",
       "\n",
       "    .dataframe thead th {\n",
       "        text-align: right;\n",
       "    }\n",
       "</style>\n",
       "<table border=\"1\" class=\"dataframe\">\n",
       "  <thead>\n",
       "    <tr style=\"text-align: right;\">\n",
       "      <th></th>\n",
       "      <th>YEAR</th>\n",
       "      <th>MONTH</th>\n",
       "      <th>DAY</th>\n",
       "      <th>HOUR</th>\n",
       "      <th>NEIGHBOURHOOD</th>\n",
       "    </tr>\n",
       "    <tr>\n",
       "      <th>Date-Time</th>\n",
       "      <th></th>\n",
       "      <th></th>\n",
       "      <th></th>\n",
       "      <th></th>\n",
       "      <th></th>\n",
       "    </tr>\n",
       "  </thead>\n",
       "  <tbody>\n",
       "    <tr>\n",
       "      <th>2004-10-08 21:00:00</th>\n",
       "      <td>2004</td>\n",
       "      <td>10</td>\n",
       "      <td>8</td>\n",
       "      <td>21.0</td>\n",
       "      <td>Fairview</td>\n",
       "    </tr>\n",
       "    <tr>\n",
       "      <th>2004-07-30 07:00:00</th>\n",
       "      <td>2004</td>\n",
       "      <td>7</td>\n",
       "      <td>30</td>\n",
       "      <td>7.0</td>\n",
       "      <td>Victoria-Fraserview</td>\n",
       "    </tr>\n",
       "    <tr>\n",
       "      <th>2004-10-08 21:00:00</th>\n",
       "      <td>2004</td>\n",
       "      <td>10</td>\n",
       "      <td>8</td>\n",
       "      <td>21.0</td>\n",
       "      <td>Fairview</td>\n",
       "    </tr>\n",
       "    <tr>\n",
       "      <th>2004-06-12 23:00:00</th>\n",
       "      <td>2004</td>\n",
       "      <td>6</td>\n",
       "      <td>12</td>\n",
       "      <td>23.0</td>\n",
       "      <td>Fairview</td>\n",
       "    </tr>\n",
       "    <tr>\n",
       "      <th>2004-01-16 00:00:00</th>\n",
       "      <td>2004</td>\n",
       "      <td>1</td>\n",
       "      <td>16</td>\n",
       "      <td>0.0</td>\n",
       "      <td>Fairview</td>\n",
       "    </tr>\n",
       "  </tbody>\n",
       "</table>\n",
       "</div>"
      ],
      "text/plain": [
       "                     YEAR  MONTH  DAY  HOUR        NEIGHBOURHOOD\n",
       "Date-Time                                                       \n",
       "2004-10-08 21:00:00  2004     10    8  21.0             Fairview\n",
       "2004-07-30 07:00:00  2004      7   30   7.0  Victoria-Fraserview\n",
       "2004-10-08 21:00:00  2004     10    8  21.0             Fairview\n",
       "2004-06-12 23:00:00  2004      6   12  23.0             Fairview\n",
       "2004-01-16 00:00:00  2004      1   16   0.0             Fairview"
      ]
     },
     "execution_count": 43,
     "metadata": {},
     "output_type": "execute_result"
    }
   ],
   "source": [
    "# Adding data and time and setting it as index\n",
    "date_time_col=pd.to_datetime(crime_data_1[['YEAR','MONTH','DAY','HOUR']])\n",
    "#date_time_col\n",
    "\n",
    "crime_data_1['Date-Time']=date_time_col\n",
    "crime_data_1.set_index('Date-Time', inplace=True)\n",
    "\n",
    "crime_data_1.head()"
   ]
  },
  {
   "cell_type": "code",
   "execution_count": 44,
   "id": "985cb406-b869-4620-8db3-23e6f8ab6427",
   "metadata": {},
   "outputs": [],
   "source": [
    "# adding a column for each neighbourhood and set it's value to 1,\n",
    "# if the crime occurs in that neighbourhood otherwise 0 using dummies\n",
    "neigh_cols=pd.get_dummies(crime_data_1['NEIGHBOURHOOD'])\n",
    "\n",
    "#Drop the column for Neighbourhood\n",
    "crime_data_1=crime_data_1.drop(columns='NEIGHBOURHOOD')\n",
    "\n",
    "crime_data_1=pd.concat([crime_data_1,neigh_cols],axis=1)"
   ]
  },
  {
   "cell_type": "code",
   "execution_count": 45,
   "id": "b990bd75-7b25-46ad-959e-e4bce6228fb7",
   "metadata": {},
   "outputs": [
    {
     "data": {
      "text/html": [
       "<div>\n",
       "<style scoped>\n",
       "    .dataframe tbody tr th:only-of-type {\n",
       "        vertical-align: middle;\n",
       "    }\n",
       "\n",
       "    .dataframe tbody tr th {\n",
       "        vertical-align: top;\n",
       "    }\n",
       "\n",
       "    .dataframe thead th {\n",
       "        text-align: right;\n",
       "    }\n",
       "</style>\n",
       "<table border=\"1\" class=\"dataframe\">\n",
       "  <thead>\n",
       "    <tr style=\"text-align: right;\">\n",
       "      <th></th>\n",
       "      <th>YEAR</th>\n",
       "      <th>MONTH</th>\n",
       "      <th>DAY</th>\n",
       "      <th>HOUR</th>\n",
       "      <th>Arbutus Ridge</th>\n",
       "      <th>Central Business District</th>\n",
       "      <th>Dunbar-Southlands</th>\n",
       "      <th>Fairview</th>\n",
       "      <th>Grandview-Woodland</th>\n",
       "      <th>Hastings-Sunrise</th>\n",
       "      <th>...</th>\n",
       "      <th>Renfrew-Collingwood</th>\n",
       "      <th>Riley Park</th>\n",
       "      <th>Shaughnessy</th>\n",
       "      <th>South Cambie</th>\n",
       "      <th>Stanley Park</th>\n",
       "      <th>Strathcona</th>\n",
       "      <th>Sunset</th>\n",
       "      <th>Victoria-Fraserview</th>\n",
       "      <th>West End</th>\n",
       "      <th>West Point Grey</th>\n",
       "    </tr>\n",
       "    <tr>\n",
       "      <th>Date-Time</th>\n",
       "      <th></th>\n",
       "      <th></th>\n",
       "      <th></th>\n",
       "      <th></th>\n",
       "      <th></th>\n",
       "      <th></th>\n",
       "      <th></th>\n",
       "      <th></th>\n",
       "      <th></th>\n",
       "      <th></th>\n",
       "      <th></th>\n",
       "      <th></th>\n",
       "      <th></th>\n",
       "      <th></th>\n",
       "      <th></th>\n",
       "      <th></th>\n",
       "      <th></th>\n",
       "      <th></th>\n",
       "      <th></th>\n",
       "      <th></th>\n",
       "      <th></th>\n",
       "    </tr>\n",
       "  </thead>\n",
       "  <tbody>\n",
       "    <tr>\n",
       "      <th>2004-10-08 21:00:00</th>\n",
       "      <td>2004</td>\n",
       "      <td>10</td>\n",
       "      <td>8</td>\n",
       "      <td>21.0</td>\n",
       "      <td>0</td>\n",
       "      <td>0</td>\n",
       "      <td>0</td>\n",
       "      <td>1</td>\n",
       "      <td>0</td>\n",
       "      <td>0</td>\n",
       "      <td>...</td>\n",
       "      <td>0</td>\n",
       "      <td>0</td>\n",
       "      <td>0</td>\n",
       "      <td>0</td>\n",
       "      <td>0</td>\n",
       "      <td>0</td>\n",
       "      <td>0</td>\n",
       "      <td>0</td>\n",
       "      <td>0</td>\n",
       "      <td>0</td>\n",
       "    </tr>\n",
       "    <tr>\n",
       "      <th>2004-07-30 07:00:00</th>\n",
       "      <td>2004</td>\n",
       "      <td>7</td>\n",
       "      <td>30</td>\n",
       "      <td>7.0</td>\n",
       "      <td>0</td>\n",
       "      <td>0</td>\n",
       "      <td>0</td>\n",
       "      <td>0</td>\n",
       "      <td>0</td>\n",
       "      <td>0</td>\n",
       "      <td>...</td>\n",
       "      <td>0</td>\n",
       "      <td>0</td>\n",
       "      <td>0</td>\n",
       "      <td>0</td>\n",
       "      <td>0</td>\n",
       "      <td>0</td>\n",
       "      <td>0</td>\n",
       "      <td>1</td>\n",
       "      <td>0</td>\n",
       "      <td>0</td>\n",
       "    </tr>\n",
       "    <tr>\n",
       "      <th>2004-10-08 21:00:00</th>\n",
       "      <td>2004</td>\n",
       "      <td>10</td>\n",
       "      <td>8</td>\n",
       "      <td>21.0</td>\n",
       "      <td>0</td>\n",
       "      <td>0</td>\n",
       "      <td>0</td>\n",
       "      <td>1</td>\n",
       "      <td>0</td>\n",
       "      <td>0</td>\n",
       "      <td>...</td>\n",
       "      <td>0</td>\n",
       "      <td>0</td>\n",
       "      <td>0</td>\n",
       "      <td>0</td>\n",
       "      <td>0</td>\n",
       "      <td>0</td>\n",
       "      <td>0</td>\n",
       "      <td>0</td>\n",
       "      <td>0</td>\n",
       "      <td>0</td>\n",
       "    </tr>\n",
       "    <tr>\n",
       "      <th>2004-06-12 23:00:00</th>\n",
       "      <td>2004</td>\n",
       "      <td>6</td>\n",
       "      <td>12</td>\n",
       "      <td>23.0</td>\n",
       "      <td>0</td>\n",
       "      <td>0</td>\n",
       "      <td>0</td>\n",
       "      <td>1</td>\n",
       "      <td>0</td>\n",
       "      <td>0</td>\n",
       "      <td>...</td>\n",
       "      <td>0</td>\n",
       "      <td>0</td>\n",
       "      <td>0</td>\n",
       "      <td>0</td>\n",
       "      <td>0</td>\n",
       "      <td>0</td>\n",
       "      <td>0</td>\n",
       "      <td>0</td>\n",
       "      <td>0</td>\n",
       "      <td>0</td>\n",
       "    </tr>\n",
       "    <tr>\n",
       "      <th>2004-01-16 00:00:00</th>\n",
       "      <td>2004</td>\n",
       "      <td>1</td>\n",
       "      <td>16</td>\n",
       "      <td>0.0</td>\n",
       "      <td>0</td>\n",
       "      <td>0</td>\n",
       "      <td>0</td>\n",
       "      <td>1</td>\n",
       "      <td>0</td>\n",
       "      <td>0</td>\n",
       "      <td>...</td>\n",
       "      <td>0</td>\n",
       "      <td>0</td>\n",
       "      <td>0</td>\n",
       "      <td>0</td>\n",
       "      <td>0</td>\n",
       "      <td>0</td>\n",
       "      <td>0</td>\n",
       "      <td>0</td>\n",
       "      <td>0</td>\n",
       "      <td>0</td>\n",
       "    </tr>\n",
       "  </tbody>\n",
       "</table>\n",
       "<p>5 rows × 28 columns</p>\n",
       "</div>"
      ],
      "text/plain": [
       "                     YEAR  MONTH  DAY  HOUR  Arbutus Ridge  \\\n",
       "Date-Time                                                    \n",
       "2004-10-08 21:00:00  2004     10    8  21.0              0   \n",
       "2004-07-30 07:00:00  2004      7   30   7.0              0   \n",
       "2004-10-08 21:00:00  2004     10    8  21.0              0   \n",
       "2004-06-12 23:00:00  2004      6   12  23.0              0   \n",
       "2004-01-16 00:00:00  2004      1   16   0.0              0   \n",
       "\n",
       "                     Central Business District  Dunbar-Southlands  Fairview  \\\n",
       "Date-Time                                                                     \n",
       "2004-10-08 21:00:00                          0                  0         1   \n",
       "2004-07-30 07:00:00                          0                  0         0   \n",
       "2004-10-08 21:00:00                          0                  0         1   \n",
       "2004-06-12 23:00:00                          0                  0         1   \n",
       "2004-01-16 00:00:00                          0                  0         1   \n",
       "\n",
       "                     Grandview-Woodland  Hastings-Sunrise  ...  \\\n",
       "Date-Time                                                  ...   \n",
       "2004-10-08 21:00:00                   0                 0  ...   \n",
       "2004-07-30 07:00:00                   0                 0  ...   \n",
       "2004-10-08 21:00:00                   0                 0  ...   \n",
       "2004-06-12 23:00:00                   0                 0  ...   \n",
       "2004-01-16 00:00:00                   0                 0  ...   \n",
       "\n",
       "                     Renfrew-Collingwood  Riley Park  Shaughnessy  \\\n",
       "Date-Time                                                           \n",
       "2004-10-08 21:00:00                    0           0            0   \n",
       "2004-07-30 07:00:00                    0           0            0   \n",
       "2004-10-08 21:00:00                    0           0            0   \n",
       "2004-06-12 23:00:00                    0           0            0   \n",
       "2004-01-16 00:00:00                    0           0            0   \n",
       "\n",
       "                     South Cambie  Stanley Park  Strathcona  Sunset  \\\n",
       "Date-Time                                                             \n",
       "2004-10-08 21:00:00             0             0           0       0   \n",
       "2004-07-30 07:00:00             0             0           0       0   \n",
       "2004-10-08 21:00:00             0             0           0       0   \n",
       "2004-06-12 23:00:00             0             0           0       0   \n",
       "2004-01-16 00:00:00             0             0           0       0   \n",
       "\n",
       "                     Victoria-Fraserview  West End  West Point Grey  \n",
       "Date-Time                                                            \n",
       "2004-10-08 21:00:00                    0         0                0  \n",
       "2004-07-30 07:00:00                    1         0                0  \n",
       "2004-10-08 21:00:00                    0         0                0  \n",
       "2004-06-12 23:00:00                    0         0                0  \n",
       "2004-01-16 00:00:00                    0         0                0  \n",
       "\n",
       "[5 rows x 28 columns]"
      ]
     },
     "execution_count": 45,
     "metadata": {},
     "output_type": "execute_result"
    }
   ],
   "source": [
    "crime_data_1.head()"
   ]
  },
  {
   "cell_type": "code",
   "execution_count": 46,
   "id": "c9935fca-ea7b-4db0-9f6c-b190498e307d",
   "metadata": {},
   "outputs": [
    {
     "ename": "KeyError",
     "evalue": "'Arbutus-Ridge'",
     "output_type": "error",
     "traceback": [
      "\u001b[1;31m---------------------------------------------------------------------------\u001b[0m",
      "\u001b[1;31mKeyError\u001b[0m                                  Traceback (most recent call last)",
      "\u001b[1;32mc:\\users\\apurav sharma\\appdata\\local\\programs\\python\\python39\\lib\\site-packages\\pandas\\core\\indexes\\base.py\u001b[0m in \u001b[0;36mget_loc\u001b[1;34m(self, key, method, tolerance)\u001b[0m\n\u001b[0;32m   3802\u001b[0m             \u001b[1;32mtry\u001b[0m\u001b[1;33m:\u001b[0m\u001b[1;33m\u001b[0m\u001b[1;33m\u001b[0m\u001b[0m\n\u001b[1;32m-> 3803\u001b[1;33m                 \u001b[1;32mreturn\u001b[0m \u001b[0mself\u001b[0m\u001b[1;33m.\u001b[0m\u001b[0m_engine\u001b[0m\u001b[1;33m.\u001b[0m\u001b[0mget_loc\u001b[0m\u001b[1;33m(\u001b[0m\u001b[0mcasted_key\u001b[0m\u001b[1;33m)\u001b[0m\u001b[1;33m\u001b[0m\u001b[1;33m\u001b[0m\u001b[0m\n\u001b[0m\u001b[0;32m   3804\u001b[0m             \u001b[1;32mexcept\u001b[0m \u001b[0mKeyError\u001b[0m \u001b[1;32mas\u001b[0m \u001b[0merr\u001b[0m\u001b[1;33m:\u001b[0m\u001b[1;33m\u001b[0m\u001b[1;33m\u001b[0m\u001b[0m\n",
      "\u001b[1;32mc:\\users\\apurav sharma\\appdata\\local\\programs\\python\\python39\\lib\\site-packages\\pandas\\_libs\\index.pyx\u001b[0m in \u001b[0;36mpandas._libs.index.IndexEngine.get_loc\u001b[1;34m()\u001b[0m\n",
      "\u001b[1;32mc:\\users\\apurav sharma\\appdata\\local\\programs\\python\\python39\\lib\\site-packages\\pandas\\_libs\\index.pyx\u001b[0m in \u001b[0;36mpandas._libs.index.IndexEngine.get_loc\u001b[1;34m()\u001b[0m\n",
      "\u001b[1;32mpandas\\_libs\\hashtable_class_helper.pxi\u001b[0m in \u001b[0;36mpandas._libs.hashtable.PyObjectHashTable.get_item\u001b[1;34m()\u001b[0m\n",
      "\u001b[1;32mpandas\\_libs\\hashtable_class_helper.pxi\u001b[0m in \u001b[0;36mpandas._libs.hashtable.PyObjectHashTable.get_item\u001b[1;34m()\u001b[0m\n",
      "\u001b[1;31mKeyError\u001b[0m: 'Arbutus-Ridge'",
      "\nThe above exception was the direct cause of the following exception:\n",
      "\u001b[1;31mKeyError\u001b[0m                                  Traceback (most recent call last)",
      "\u001b[1;32mC:\\Users\\APURAV~1\\AppData\\Local\\Temp/ipykernel_2180/4019163852.py\u001b[0m in \u001b[0;36m<module>\u001b[1;34m\u001b[0m\n\u001b[0;32m      1\u001b[0m \u001b[1;31m# crimes in different cities\u001b[0m\u001b[1;33m\u001b[0m\u001b[1;33m\u001b[0m\u001b[1;33m\u001b[0m\u001b[0m\n\u001b[0;32m      2\u001b[0m \u001b[1;32mfor\u001b[0m \u001b[0mi\u001b[0m \u001b[1;32min\u001b[0m \u001b[0mrange\u001b[0m\u001b[1;33m(\u001b[0m\u001b[0mlen\u001b[0m\u001b[1;33m(\u001b[0m\u001b[0mcols\u001b[0m\u001b[1;33m)\u001b[0m\u001b[1;33m)\u001b[0m\u001b[1;33m:\u001b[0m\u001b[1;33m\u001b[0m\u001b[1;33m\u001b[0m\u001b[0m\n\u001b[1;32m----> 3\u001b[1;33m     \u001b[0mx\u001b[0m\u001b[1;33m=\u001b[0m\u001b[0mcrime_data_1\u001b[0m\u001b[1;33m[\u001b[0m\u001b[0mcols\u001b[0m\u001b[1;33m[\u001b[0m\u001b[0mi\u001b[0m\u001b[1;33m]\u001b[0m\u001b[1;33m]\u001b[0m\u001b[1;33m.\u001b[0m\u001b[0mvalue_counts\u001b[0m\u001b[1;33m(\u001b[0m\u001b[1;33m)\u001b[0m\u001b[1;33m\u001b[0m\u001b[1;33m\u001b[0m\u001b[0m\n\u001b[0m\u001b[0;32m      4\u001b[0m     \u001b[0mprint\u001b[0m\u001b[1;33m(\u001b[0m\u001b[0mcols\u001b[0m\u001b[1;33m[\u001b[0m\u001b[0mi\u001b[0m\u001b[1;33m]\u001b[0m\u001b[1;33m)\u001b[0m\u001b[1;33m\u001b[0m\u001b[1;33m\u001b[0m\u001b[0m\n\u001b[0;32m      5\u001b[0m     \u001b[0mprint\u001b[0m\u001b[1;33m(\u001b[0m\u001b[0mx\u001b[0m\u001b[1;33m)\u001b[0m\u001b[1;33m\u001b[0m\u001b[1;33m\u001b[0m\u001b[0m\n",
      "\u001b[1;32mc:\\users\\apurav sharma\\appdata\\local\\programs\\python\\python39\\lib\\site-packages\\pandas\\core\\frame.py\u001b[0m in \u001b[0;36m__getitem__\u001b[1;34m(self, key)\u001b[0m\n\u001b[0;32m   3802\u001b[0m             \u001b[1;32mif\u001b[0m \u001b[0mself\u001b[0m\u001b[1;33m.\u001b[0m\u001b[0mcolumns\u001b[0m\u001b[1;33m.\u001b[0m\u001b[0mnlevels\u001b[0m \u001b[1;33m>\u001b[0m \u001b[1;36m1\u001b[0m\u001b[1;33m:\u001b[0m\u001b[1;33m\u001b[0m\u001b[1;33m\u001b[0m\u001b[0m\n\u001b[0;32m   3803\u001b[0m                 \u001b[1;32mreturn\u001b[0m \u001b[0mself\u001b[0m\u001b[1;33m.\u001b[0m\u001b[0m_getitem_multilevel\u001b[0m\u001b[1;33m(\u001b[0m\u001b[0mkey\u001b[0m\u001b[1;33m)\u001b[0m\u001b[1;33m\u001b[0m\u001b[1;33m\u001b[0m\u001b[0m\n\u001b[1;32m-> 3804\u001b[1;33m             \u001b[0mindexer\u001b[0m \u001b[1;33m=\u001b[0m \u001b[0mself\u001b[0m\u001b[1;33m.\u001b[0m\u001b[0mcolumns\u001b[0m\u001b[1;33m.\u001b[0m\u001b[0mget_loc\u001b[0m\u001b[1;33m(\u001b[0m\u001b[0mkey\u001b[0m\u001b[1;33m)\u001b[0m\u001b[1;33m\u001b[0m\u001b[1;33m\u001b[0m\u001b[0m\n\u001b[0m\u001b[0;32m   3805\u001b[0m             \u001b[1;32mif\u001b[0m \u001b[0mis_integer\u001b[0m\u001b[1;33m(\u001b[0m\u001b[0mindexer\u001b[0m\u001b[1;33m)\u001b[0m\u001b[1;33m:\u001b[0m\u001b[1;33m\u001b[0m\u001b[1;33m\u001b[0m\u001b[0m\n\u001b[0;32m   3806\u001b[0m                 \u001b[0mindexer\u001b[0m \u001b[1;33m=\u001b[0m \u001b[1;33m[\u001b[0m\u001b[0mindexer\u001b[0m\u001b[1;33m]\u001b[0m\u001b[1;33m\u001b[0m\u001b[1;33m\u001b[0m\u001b[0m\n",
      "\u001b[1;32mc:\\users\\apurav sharma\\appdata\\local\\programs\\python\\python39\\lib\\site-packages\\pandas\\core\\indexes\\base.py\u001b[0m in \u001b[0;36mget_loc\u001b[1;34m(self, key, method, tolerance)\u001b[0m\n\u001b[0;32m   3803\u001b[0m                 \u001b[1;32mreturn\u001b[0m \u001b[0mself\u001b[0m\u001b[1;33m.\u001b[0m\u001b[0m_engine\u001b[0m\u001b[1;33m.\u001b[0m\u001b[0mget_loc\u001b[0m\u001b[1;33m(\u001b[0m\u001b[0mcasted_key\u001b[0m\u001b[1;33m)\u001b[0m\u001b[1;33m\u001b[0m\u001b[1;33m\u001b[0m\u001b[0m\n\u001b[0;32m   3804\u001b[0m             \u001b[1;32mexcept\u001b[0m \u001b[0mKeyError\u001b[0m \u001b[1;32mas\u001b[0m \u001b[0merr\u001b[0m\u001b[1;33m:\u001b[0m\u001b[1;33m\u001b[0m\u001b[1;33m\u001b[0m\u001b[0m\n\u001b[1;32m-> 3805\u001b[1;33m                 \u001b[1;32mraise\u001b[0m \u001b[0mKeyError\u001b[0m\u001b[1;33m(\u001b[0m\u001b[0mkey\u001b[0m\u001b[1;33m)\u001b[0m \u001b[1;32mfrom\u001b[0m \u001b[0merr\u001b[0m\u001b[1;33m\u001b[0m\u001b[1;33m\u001b[0m\u001b[0m\n\u001b[0m\u001b[0;32m   3806\u001b[0m             \u001b[1;32mexcept\u001b[0m \u001b[0mTypeError\u001b[0m\u001b[1;33m:\u001b[0m\u001b[1;33m\u001b[0m\u001b[1;33m\u001b[0m\u001b[0m\n\u001b[0;32m   3807\u001b[0m                 \u001b[1;31m# If we have a listlike key, _check_indexing_error will raise\u001b[0m\u001b[1;33m\u001b[0m\u001b[1;33m\u001b[0m\u001b[1;33m\u001b[0m\u001b[0m\n",
      "\u001b[1;31mKeyError\u001b[0m: 'Arbutus-Ridge'"
     ]
    }
   ],
   "source": [
    "# crimes in different cities\n",
    "for i in range(len(cols)):\n",
    "    x=crime_data_1[cols[i]].value_counts()\n",
    "    print(cols[i])\n",
    "    print(x)\n",
    "    print()\n",
    "  "
   ]
  },
  {
   "cell_type": "code",
   "execution_count": 47,
   "id": "fc5b9672-c05b-400e-a300-e260e579edd7",
   "metadata": {},
   "outputs": [
    {
     "data": {
      "image/png": "[encoded data removed]",
      "text/plain": [
       "<Figure size 691.2x1612.8 with 21 Axes>"
      ]
     },
     "metadata": {
      "needs_background": "light"
     },
     "output_type": "display_data"
    }
   ],
   "source": [
    "n_rows=7\n",
    "n_cols=3\n",
    "# The subplot grid and figure size of each graph\n",
    "fig,axs=plt.subplots(n_rows,n_cols,figsize=(n_cols*3.2, n_rows*3.2))\n",
    "for r in range(n_rows):\n",
    "    for c in range(n_cols):\n",
    "        i=r*n_cols + c # index to go through the number of columns\n",
    "        ax=axs[r][c] # Show where to position each sub plot\n",
    "        #sns.countplot(crime_data_1[cols[i]],ax=ax)\n",
    "        \n",
    "        sns.countplot(crime_data_1['Strathcona'])\n",
    "        \n",
    "        \n",
    "\n",
    "        ax.set_title(cols[i])\n",
    "        ax.set_ylabel('No. of Crimes')\n",
    "        ax.set_xlabel('Nature of Crime (occured/not occured)')\n",
    "plt.tight_layout()\n",
    "#sns.countplot(crime_data_1['West Point Grey'])"
   ]
  },
  {
   "cell_type": "code",
   "execution_count": 48,
   "id": "af2030fb-9cbf-4c9c-a839-1306b3da11f7",
   "metadata": {},
   "outputs": [
    {
     "data": {
      "text/html": [
       "<div>\n",
       "<style scoped>\n",
       "    .dataframe tbody tr th:only-of-type {\n",
       "        vertical-align: middle;\n",
       "    }\n",
       "\n",
       "    .dataframe tbody tr th {\n",
       "        vertical-align: top;\n",
       "    }\n",
       "\n",
       "    .dataframe thead th {\n",
       "        text-align: right;\n",
       "    }\n",
       "</style>\n",
       "<table border=\"1\" class=\"dataframe\">\n",
       "  <thead>\n",
       "    <tr style=\"text-align: right;\">\n",
       "      <th></th>\n",
       "      <th>YEAR</th>\n",
       "      <th>MONTH</th>\n",
       "      <th>DAY</th>\n",
       "      <th>HOUR</th>\n",
       "      <th>Arbutus Ridge</th>\n",
       "      <th>Central Business District</th>\n",
       "      <th>Dunbar-Southlands</th>\n",
       "      <th>Fairview</th>\n",
       "      <th>Grandview-Woodland</th>\n",
       "      <th>Hastings-Sunrise</th>\n",
       "      <th>...</th>\n",
       "      <th>Renfrew-Collingwood</th>\n",
       "      <th>Riley Park</th>\n",
       "      <th>Shaughnessy</th>\n",
       "      <th>South Cambie</th>\n",
       "      <th>Stanley Park</th>\n",
       "      <th>Strathcona</th>\n",
       "      <th>Sunset</th>\n",
       "      <th>Victoria-Fraserview</th>\n",
       "      <th>West End</th>\n",
       "      <th>West Point Grey</th>\n",
       "    </tr>\n",
       "    <tr>\n",
       "      <th>Date-Time</th>\n",
       "      <th></th>\n",
       "      <th></th>\n",
       "      <th></th>\n",
       "      <th></th>\n",
       "      <th></th>\n",
       "      <th></th>\n",
       "      <th></th>\n",
       "      <th></th>\n",
       "      <th></th>\n",
       "      <th></th>\n",
       "      <th></th>\n",
       "      <th></th>\n",
       "      <th></th>\n",
       "      <th></th>\n",
       "      <th></th>\n",
       "      <th></th>\n",
       "      <th></th>\n",
       "      <th></th>\n",
       "      <th></th>\n",
       "      <th></th>\n",
       "      <th></th>\n",
       "    </tr>\n",
       "  </thead>\n",
       "  <tbody>\n",
       "    <tr>\n",
       "      <th>2004-01-01</th>\n",
       "      <td>2004</td>\n",
       "      <td>1</td>\n",
       "      <td>1</td>\n",
       "      <td>0.0</td>\n",
       "      <td>0</td>\n",
       "      <td>1</td>\n",
       "      <td>0</td>\n",
       "      <td>0</td>\n",
       "      <td>0</td>\n",
       "      <td>0</td>\n",
       "      <td>...</td>\n",
       "      <td>0</td>\n",
       "      <td>0</td>\n",
       "      <td>0</td>\n",
       "      <td>0</td>\n",
       "      <td>0</td>\n",
       "      <td>0</td>\n",
       "      <td>0</td>\n",
       "      <td>0</td>\n",
       "      <td>0</td>\n",
       "      <td>0</td>\n",
       "    </tr>\n",
       "    <tr>\n",
       "      <th>2004-01-01</th>\n",
       "      <td>2004</td>\n",
       "      <td>1</td>\n",
       "      <td>1</td>\n",
       "      <td>0.0</td>\n",
       "      <td>0</td>\n",
       "      <td>0</td>\n",
       "      <td>0</td>\n",
       "      <td>0</td>\n",
       "      <td>0</td>\n",
       "      <td>0</td>\n",
       "      <td>...</td>\n",
       "      <td>0</td>\n",
       "      <td>0</td>\n",
       "      <td>0</td>\n",
       "      <td>0</td>\n",
       "      <td>0</td>\n",
       "      <td>0</td>\n",
       "      <td>0</td>\n",
       "      <td>1</td>\n",
       "      <td>0</td>\n",
       "      <td>0</td>\n",
       "    </tr>\n",
       "    <tr>\n",
       "      <th>2004-01-01</th>\n",
       "      <td>2004</td>\n",
       "      <td>1</td>\n",
       "      <td>1</td>\n",
       "      <td>0.0</td>\n",
       "      <td>0</td>\n",
       "      <td>0</td>\n",
       "      <td>0</td>\n",
       "      <td>0</td>\n",
       "      <td>0</td>\n",
       "      <td>0</td>\n",
       "      <td>...</td>\n",
       "      <td>0</td>\n",
       "      <td>0</td>\n",
       "      <td>0</td>\n",
       "      <td>0</td>\n",
       "      <td>0</td>\n",
       "      <td>0</td>\n",
       "      <td>0</td>\n",
       "      <td>0</td>\n",
       "      <td>0</td>\n",
       "      <td>0</td>\n",
       "    </tr>\n",
       "    <tr>\n",
       "      <th>2004-01-01</th>\n",
       "      <td>2004</td>\n",
       "      <td>1</td>\n",
       "      <td>1</td>\n",
       "      <td>0.0</td>\n",
       "      <td>0</td>\n",
       "      <td>0</td>\n",
       "      <td>0</td>\n",
       "      <td>0</td>\n",
       "      <td>0</td>\n",
       "      <td>0</td>\n",
       "      <td>...</td>\n",
       "      <td>0</td>\n",
       "      <td>0</td>\n",
       "      <td>0</td>\n",
       "      <td>0</td>\n",
       "      <td>0</td>\n",
       "      <td>0</td>\n",
       "      <td>0</td>\n",
       "      <td>0</td>\n",
       "      <td>0</td>\n",
       "      <td>0</td>\n",
       "    </tr>\n",
       "    <tr>\n",
       "      <th>2004-01-01</th>\n",
       "      <td>2004</td>\n",
       "      <td>1</td>\n",
       "      <td>1</td>\n",
       "      <td>0.0</td>\n",
       "      <td>0</td>\n",
       "      <td>0</td>\n",
       "      <td>0</td>\n",
       "      <td>0</td>\n",
       "      <td>0</td>\n",
       "      <td>0</td>\n",
       "      <td>...</td>\n",
       "      <td>0</td>\n",
       "      <td>0</td>\n",
       "      <td>0</td>\n",
       "      <td>0</td>\n",
       "      <td>0</td>\n",
       "      <td>0</td>\n",
       "      <td>0</td>\n",
       "      <td>0</td>\n",
       "      <td>0</td>\n",
       "      <td>1</td>\n",
       "    </tr>\n",
       "  </tbody>\n",
       "</table>\n",
       "<p>5 rows × 28 columns</p>\n",
       "</div>"
      ],
      "text/plain": [
       "            YEAR  MONTH  DAY  HOUR  Arbutus Ridge  Central Business District  \\\n",
       "Date-Time                                                                      \n",
       "2004-01-01  2004      1    1   0.0              0                          1   \n",
       "2004-01-01  2004      1    1   0.0              0                          0   \n",
       "2004-01-01  2004      1    1   0.0              0                          0   \n",
       "2004-01-01  2004      1    1   0.0              0                          0   \n",
       "2004-01-01  2004      1    1   0.0              0                          0   \n",
       "\n",
       "            Dunbar-Southlands  Fairview  Grandview-Woodland  Hastings-Sunrise  \\\n",
       "Date-Time                                                                       \n",
       "2004-01-01                  0         0                   0                 0   \n",
       "2004-01-01                  0         0                   0                 0   \n",
       "2004-01-01                  0         0                   0                 0   \n",
       "2004-01-01                  0         0                   0                 0   \n",
       "2004-01-01                  0         0                   0                 0   \n",
       "\n",
       "            ...  Renfrew-Collingwood  Riley Park  Shaughnessy  South Cambie  \\\n",
       "Date-Time   ...                                                               \n",
       "2004-01-01  ...                    0           0            0             0   \n",
       "2004-01-01  ...                    0           0            0             0   \n",
       "2004-01-01  ...                    0           0            0             0   \n",
       "2004-01-01  ...                    0           0            0             0   \n",
       "2004-01-01  ...                    0           0            0             0   \n",
       "\n",
       "            Stanley Park  Strathcona  Sunset  Victoria-Fraserview  West End  \\\n",
       "Date-Time                                                                     \n",
       "2004-01-01             0           0       0                    0         0   \n",
       "2004-01-01             0           0       0                    1         0   \n",
       "2004-01-01             0           0       0                    0         0   \n",
       "2004-01-01             0           0       0                    0         0   \n",
       "2004-01-01             0           0       0                    0         0   \n",
       "\n",
       "            West Point Grey  \n",
       "Date-Time                    \n",
       "2004-01-01                0  \n",
       "2004-01-01                0  \n",
       "2004-01-01                0  \n",
       "2004-01-01                0  \n",
       "2004-01-01                1  \n",
       "\n",
       "[5 rows x 28 columns]"
      ]
     },
     "execution_count": 48,
     "metadata": {},
     "output_type": "execute_result"
    }
   ],
   "source": [
    "crime_data_1=crime_data_1.sort_values(by='Date-Time')\n",
    "crime_data_1=crime_data_1.drop_duplicates()\n",
    "\n",
    "crime_data_1.head()"
   ]
  },
  {
   "cell_type": "code",
   "execution_count": 49,
   "id": "901947b3-9be5-44bc-bbc8-061295fa9375",
   "metadata": {},
   "outputs": [],
   "source": [
    "# getting input(x) and output(y) arrays\n",
    "X=crime_data_1[['YEAR','MONTH','DAY','HOUR']]\n",
    "X=X.drop_duplicates().values\n",
    "#X[0]\n",
    "\n",
    "\n",
    "#Y[0]"
   ]
  },
  {
   "cell_type": "code",
   "execution_count": 50,
   "id": "1aed907e-fc90-4634-a86d-7d4045d435b1",
   "metadata": {},
   "outputs": [
    {
     "data": {
      "text/plain": [
       "(107755, 24)"
      ]
     },
     "execution_count": 50,
     "metadata": {},
     "output_type": "execute_result"
    }
   ],
   "source": [
    "# grouping by date\n",
    "crime_data_1=crime_data_1.groupby(['YEAR','MONTH','DAY','HOUR']).sum()\n",
    "crime_data_1.head(24)\n",
    "crime_data_1.shape"
   ]
  },
  {
   "cell_type": "code",
   "execution_count": 51,
   "id": "4587f62b-0018-4089-8980-545a101cbe9e",
   "metadata": {},
   "outputs": [
    {
     "data": {
      "text/plain": [
       "array([0, 0, 0, 0, 0, 0, 1, 0, 0, 0, 0, 0, 0, 0, 0, 0, 0, 0, 0, 1, 0, 0,\n",
       "       0, 0], dtype=uint8)"
      ]
     },
     "execution_count": 51,
     "metadata": {},
     "output_type": "execute_result"
    }
   ],
   "source": [
    "Y=crime_data_1.values\n",
    "Y[1]"
   ]
  },
  {
   "cell_type": "code",
   "execution_count": 52,
   "id": "e0c45317-8ff7-4575-82f5-0b417f066eeb",
   "metadata": {},
   "outputs": [
    {
     "name": "stdout",
     "output_type": "stream",
     "text": [
      "[0.         0.         0.         0.13043478]\n",
      "[0 1 1 0 0 0 1 0 0 0 0 0 0 0 0 0 0 0 0 1 0 0 1 0]\n"
     ]
    }
   ],
   "source": [
    "# transforming\n",
    "scaler=MinMaxScaler()\n",
    "X=scaler.fit(X).transform(X)\n",
    "print(X[3])\n",
    "\n",
    "#Y=scaler.fit(Y).transform(Y)\n",
    "print(Y[3])"
   ]
  },
  {
   "cell_type": "markdown",
   "id": "a84d19a9-af2e-447e-a475-00ac9ea6339d",
   "metadata": {},
   "source": [
    "Network\n"
   ]
  },
  {
   "cell_type": "code",
   "execution_count": 53,
   "id": "9026a94c-15b4-4146-a968-0d08a32845be",
   "metadata": {},
   "outputs": [
    {
     "name": "stdout",
     "output_type": "stream",
     "text": [
      "Training Data Size: (72195, 4)\n",
      "Testing Data Size:(35560, 4)\n",
      "Training Label Size: (72195, 24)\n",
      "Testing Label Size: (35560, 24)\n"
     ]
    }
   ],
   "source": [
    "# spliting the data into 33% test and 67% train\n",
    "X_train, X_test, y_train, y_test=train_test_split(X, Y, test_size=0.33, random_state=0)\n",
    "\n",
    "print(\"Training Data Size: \" + str(X_train.shape))\n",
    "print(\"Testing Data Size:\" + str(X_test.shape))\n",
    "print(\"Training Label Size: \" + str(y_train.shape))\n",
    "print(\"Testing Label Size: \" + str(y_test.shape))"
   ]
  },
  {
   "cell_type": "code",
   "execution_count": 54,
   "id": "4b09edde-38e7-4668-ad2d-4c0e93343d9a",
   "metadata": {},
   "outputs": [
    {
     "name": "stdout",
     "output_type": "stream",
     "text": [
      "Model: \"sequential\"\n",
      "_________________________________________________________________\n",
      " Layer (type)                Output Shape              Param #   \n",
      "=================================================================\n",
      " dense (Dense)               (None, 32)                160       \n",
      "                                                                 \n",
      " dense_1 (Dense)             (None, 64)                2112      \n",
      "                                                                 \n",
      " dense_2 (Dense)             (None, 32)                2080      \n",
      "                                                                 \n",
      " dense_3 (Dense)             (None, 24)                792       \n",
      "                                                                 \n",
      "=================================================================\n",
      "Total params: 5,144\n",
      "Trainable params: 5,144\n",
      "Non-trainable params: 0\n",
      "_________________________________________________________________\n"
     ]
    }
   ],
   "source": [
    "# model making using ANN\n",
    "model=Sequential()\n",
    "\n",
    "# input with 3 layers\n",
    "model.add(Dense(32, activation='tanh',input_shape=(X_train.shape[1], )))\n",
    "model.add(Dense(64, activation='tanh') )\n",
    "model.add(Dense(32, activation='tanh') )\n",
    "\n",
    "# output layer\n",
    "model.add(Dense(y_train.shape[1], activation='sigmoid') )\n",
    "\n",
    "# compiling the ANN model\n",
    "model.compile(optimizer='rmsprop',\n",
    "                loss='binary_crossentropy',\n",
    "                metrics=['accuracy'])\n",
    "\n",
    "model.summary()"
   ]
  },
  {
   "cell_type": "code",
   "execution_count": 55,
   "id": "51fdc2da-5963-4e56-9edb-c50bfa41b88c",
   "metadata": {},
   "outputs": [
    {
     "name": "stdout",
     "output_type": "stream",
     "text": [
      "Epoch 1/15\n",
      "452/452 [==============================] - 7s 9ms/step - loss: 0.3503 - accuracy: 0.5506 - val_loss: 0.3383 - val_accuracy: 0.5525\n",
      "Epoch 2/15\n",
      "452/452 [==============================] - 3s 7ms/step - loss: 0.3365 - accuracy: 0.5554 - val_loss: 0.3371 - val_accuracy: 0.5525\n",
      "Epoch 3/15\n",
      "452/452 [==============================] - 3s 7ms/step - loss: 0.3358 - accuracy: 0.5554 - val_loss: 0.3367 - val_accuracy: 0.5525\n",
      "Epoch 4/15\n",
      "452/452 [==============================] - 3s 7ms/step - loss: 0.3354 - accuracy: 0.5554 - val_loss: 0.3362 - val_accuracy: 0.5525\n",
      "Epoch 5/15\n",
      "452/452 [==============================] - 3s 6ms/step - loss: 0.3351 - accuracy: 0.5554 - val_loss: 0.3362 - val_accuracy: 0.5525\n",
      "Epoch 6/15\n",
      "452/452 [==============================] - 3s 6ms/step - loss: 0.3350 - accuracy: 0.5554 - val_loss: 0.3359 - val_accuracy: 0.5525\n",
      "Epoch 7/15\n",
      "452/452 [==============================] - 3s 6ms/step - loss: 0.3348 - accuracy: 0.5554 - val_loss: 0.3358 - val_accuracy: 0.5525\n",
      "Epoch 8/15\n",
      "452/452 [==============================] - 3s 6ms/step - loss: 0.3346 - accuracy: 0.5554 - val_loss: 0.3359 - val_accuracy: 0.5525\n",
      "Epoch 9/15\n",
      "452/452 [==============================] - 3s 6ms/step - loss: 0.3343 - accuracy: 0.5554 - val_loss: 0.3351 - val_accuracy: 0.5525\n",
      "Epoch 10/15\n",
      "452/452 [==============================] - 3s 6ms/step - loss: 0.3339 - accuracy: 0.5554 - val_loss: 0.3347 - val_accuracy: 0.5525\n",
      "Epoch 11/15\n",
      "452/452 [==============================] - 3s 6ms/step - loss: 0.3335 - accuracy: 0.5554 - val_loss: 0.3344 - val_accuracy: 0.5525\n",
      "Epoch 12/15\n",
      "452/452 [==============================] - 3s 6ms/step - loss: 0.3331 - accuracy: 0.5554 - val_loss: 0.3342 - val_accuracy: 0.5525\n",
      "Epoch 13/15\n",
      "452/452 [==============================] - 3s 6ms/step - loss: 0.3328 - accuracy: 0.5554 - val_loss: 0.3338 - val_accuracy: 0.5525\n",
      "Epoch 14/15\n",
      "452/452 [==============================] - 3s 6ms/step - loss: 0.3326 - accuracy: 0.5554 - val_loss: 0.3336 - val_accuracy: 0.5525\n",
      "Epoch 15/15\n",
      "452/452 [==============================] - 3s 6ms/step - loss: 0.3325 - accuracy: 0.5554 - val_loss: 0.3337 - val_accuracy: 0.5525\n"
     ]
    }
   ],
   "source": [
    "# training the model\n",
    "result=model.fit(X_train, y_train,\n",
    "                epochs=15,\n",
    "                batch_size=128,\n",
    "                validation_split=0.2,\n",
    "                verbose=1)"
   ]
  },
  {
   "cell_type": "code",
   "execution_count": 56,
   "id": "4c93cfe0-b338-46f1-a5f1-0314cff8d683",
   "metadata": {},
   "outputs": [
    {
     "data": {
      "image/png": "[encoded data removed]",
      "text/plain": [
       "<Figure size 432x288 with 1 Axes>"
      ]
     },
     "metadata": {
      "needs_background": "light"
     },
     "output_type": "display_data"
    }
   ],
   "source": [
    "def loss_curve(result):\n",
    "    train_loss=result.history['loss']\n",
    "    val_loss=result.history['val_loss']\n",
    "    x_axis=range(1,len(result.history['loss'])+1)\n",
    "    plt.figure()\n",
    "    plt.plot(x_axis, train_loss, label='Training Loss')\n",
    "    plt.plot(x_axis, val_loss, label='Validation Loss')\n",
    "    plt.ylabel('Loss Value')\n",
    "    plt.xlabel('Epochs')\n",
    "    plt.title('Epochs vs Loss')\n",
    "    plt.legend()\n",
    "loss_curve(result)"
   ]
  },
  {
   "cell_type": "code",
   "execution_count": 57,
   "id": "4a3b2609-fb5c-4ce5-9d84-2bd29655d2ce",
   "metadata": {},
   "outputs": [
    {
     "data": {
      "image/png": "[encoded data removed]",
      "text/plain": [
       "<Figure size 432x288 with 1 Axes>"
      ]
     },
     "metadata": {
      "needs_background": "light"
     },
     "output_type": "display_data"
    }
   ],
   "source": [
    "def accuracy(result):\n",
    "    acc=result.history['accuracy']\n",
    "    val_acc=result.history['val_accuracy']\n",
    "    x_axis=range(1,len(result.history['accuracy'])+1)\n",
    "    plt.figure()\n",
    "    plt.plot(x_axis, np.dot(acc,100), label='Accuracy')\n",
    "    plt.plot(x_axis,np.dot(val_acc,100),label='Validation Accuracy')\n",
    "    plt.ylabel('Accuracy')\n",
    "    plt.xlabel('Epochs')\n",
    "    plt.title('Accuracy vs Epochs')\n",
    "    plt.legend()\n",
    "accuracy(result)"
   ]
  },
  {
   "cell_type": "code",
   "execution_count": 58,
   "id": "b8da02dc-e515-4cb3-8a4b-cc6870e2b06e",
   "metadata": {},
   "outputs": [
    {
     "name": "stdout",
     "output_type": "stream",
     "text": [
      "accuracy: 55.00%\n"
     ]
    }
   ],
   "source": [
    "scores = model.evaluate(X_test, y_test, verbose=0)\n",
    "print(\"%s: %.2f%%\" % (model.metrics_names[1], scores[1]*100))"
   ]
  },
  {
   "cell_type": "code",
   "execution_count": 59,
   "id": "7b6d277b-b61e-4f89-859f-27710a2b6e92",
   "metadata": {},
   "outputs": [
    {
     "name": "stdout",
     "output_type": "stream",
     "text": [
      "1/1 [==============================] - 0s 352ms/step\n",
      "Arbutus Ridge  --->  0.04747553\n",
      "Central Business District  --->  0.7220043\n",
      "Dunbar-Southlands  --->  0.049520414\n",
      "Fairview  --->  0.20367008\n",
      "Grandview-Woodland  --->  0.19853446\n",
      "Hastings-Sunrise  --->  0.13495165\n",
      "Kensington-Cedar Cottage  --->  0.17927408\n",
      "Kerrisdale  --->  0.06415815\n",
      "Killarney  --->  0.053517547\n",
      "Kitsilano  --->  0.1915042\n",
      "Marpole  --->  0.07577477\n",
      "Mount Pleasant  --->  0.34638494\n",
      "Musqueam  --->  0.0015616245\n",
      "Oakridge  --->  0.07052877\n",
      "Renfrew-Collingwood  --->  0.23676676\n",
      "Riley Park  --->  0.117020816\n",
      "Shaughnessy  --->  0.040966596\n",
      "South Cambie  --->  0.055119075\n",
      "Stanley Park  --->  0.027785676\n",
      "Strathcona  --->  0.20155476\n",
      "Sunset  --->  0.10230059\n",
      "Victoria-Fraserview  --->  0.07582038\n"
     ]
    }
   ],
   "source": [
    "# Predicting for random year/month/day/hour\n",
    "neigh=crime_data_1.columns\n",
    "ans = model.predict(np.array([[2020, 5,1,10.0]]))\n",
    "for i in range(22):\n",
    "    print(neigh[i],\" ---> \",ans[0][i])"
   ]
  },
  {
   "cell_type": "code",
   "execution_count": null,
   "id": "d517a6f5-8bf6-4e40-bfc0-16c4952873cf",
   "metadata": {},
   "outputs": [],
   "source": []
  }
 ],
 "metadata": {
  "kernelspec": {
   "display_name": "Python 3 (ipykernel)",
   "language": "python",
   "name": "python3"
  },
  "language_info": {
   "codemirror_mode": {
    "name": "ipython",
    "version": 3
   },
   "file_extension": ".py",
   "mimetype": "text/x-python",
   "name": "python",
   "nbconvert_exporter": "python",
   "pygments_lexer": "ipython3",
   "version": "3.9.6"
  }
 },
 "nbformat": 4,
 "nbformat_minor": 5
}
