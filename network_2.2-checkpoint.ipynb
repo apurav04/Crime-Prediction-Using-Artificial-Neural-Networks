{
 "cells": [
  {
   "cell_type": "code",
   "execution_count": 1,
   "id": "860340ce-53c7-41cb-8a48-04bc7ac684bf",
   "metadata": {},
   "outputs": [
    {
     "name": "stdout",
     "output_type": "stream",
     "text": [
      "Shape of Dataset imported for use: (428141, 11)\n",
      "\n",
      "Sample row\n"
     ]
    },
    {
     "data": {
      "text/html": [
       "<div>\n",
       "<style scoped>\n",
       "    .dataframe tbody tr th:only-of-type {\n",
       "        vertical-align: middle;\n",
       "    }\n",
       "\n",
       "    .dataframe tbody tr th {\n",
       "        vertical-align: top;\n",
       "    }\n",
       "\n",
       "    .dataframe thead th {\n",
       "        text-align: right;\n",
       "    }\n",
       "</style>\n",
       "<table border=\"1\" class=\"dataframe\">\n",
       "  <thead>\n",
       "    <tr style=\"text-align: right;\">\n",
       "      <th></th>\n",
       "      <th>YEAR</th>\n",
       "      <th>MONTH</th>\n",
       "      <th>DAY</th>\n",
       "      <th>HOUR</th>\n",
       "      <th>MINUTE</th>\n",
       "      <th>Neighbourhood</th>\n",
       "      <th>Latitude</th>\n",
       "      <th>Longitude</th>\n",
       "      <th>Graffiti</th>\n",
       "      <th>Drinking_Fountain</th>\n",
       "      <th>Google_Trends</th>\n",
       "    </tr>\n",
       "  </thead>\n",
       "  <tbody>\n",
       "    <tr>\n",
       "      <th>0</th>\n",
       "      <td>2004</td>\n",
       "      <td>10</td>\n",
       "      <td>8</td>\n",
       "      <td>21.0</td>\n",
       "      <td>0.0</td>\n",
       "      <td>Fairview</td>\n",
       "      <td>49.265076</td>\n",
       "      <td>-123.118474</td>\n",
       "      <td>0.040765</td>\n",
       "      <td>0.402295</td>\n",
       "      <td>72</td>\n",
       "    </tr>\n",
       "  </tbody>\n",
       "</table>\n",
       "</div>"
      ],
      "text/plain": [
       "   YEAR  MONTH  DAY  HOUR  MINUTE Neighbourhood   Latitude   Longitude  \\\n",
       "0  2004     10    8  21.0     0.0      Fairview  49.265076 -123.118474   \n",
       "\n",
       "   Graffiti  Drinking_Fountain  Google_Trends  \n",
       "0  0.040765           0.402295             72  "
      ]
     },
     "execution_count": 1,
     "metadata": {},
     "output_type": "execute_result"
    }
   ],
   "source": [
    "import pandas as pd\n",
    "import numpy as np\n",
    "\n",
    "# File loaded from Github Repo\n",
    "file_path = 'final_crime.csv'\n",
    "\n",
    "df = pd.read_csv(file_path)\n",
    "\n",
    "# Removing invalid points\n",
    "df = df[pd.isnull(df['NEIGHBOURHOOD']) != pd.isnull(pd.NaT)]\n",
    "\n",
    "df = df[['YEAR','MONTH','DAY','HOUR', 'MINUTE', 'Neighbourhood', 'Latitude', 'Longitude', 'Graffiti', 'Drinking_Fountain', 'Google_Trends']] \n",
    "print(\"Shape of Dataset imported for use: \" + str(df.shape) + \"\\n\")\n",
    "\n",
    "print(\"Sample row\")\n",
    "df.head(1)\n",
    "     "
   ]
  },
  {
   "cell_type": "code",
   "execution_count": 2,
   "id": "ba3aff46-26e5-4026-b573-f8c94eef2f18",
   "metadata": {},
   "outputs": [
    {
     "name": "stdout",
     "output_type": "stream",
     "text": [
      "------ Adding date-time object as key ------\n",
      "\n",
      "Sample row\n"
     ]
    },
    {
     "data": {
      "text/html": [
       "<div>\n",
       "<style scoped>\n",
       "    .dataframe tbody tr th:only-of-type {\n",
       "        vertical-align: middle;\n",
       "    }\n",
       "\n",
       "    .dataframe tbody tr th {\n",
       "        vertical-align: top;\n",
       "    }\n",
       "\n",
       "    .dataframe thead th {\n",
       "        text-align: right;\n",
       "    }\n",
       "</style>\n",
       "<table border=\"1\" class=\"dataframe\">\n",
       "  <thead>\n",
       "    <tr style=\"text-align: right;\">\n",
       "      <th></th>\n",
       "      <th>YEAR</th>\n",
       "      <th>MONTH</th>\n",
       "      <th>DAY</th>\n",
       "      <th>HOUR</th>\n",
       "      <th>MINUTE</th>\n",
       "      <th>Neighbourhood</th>\n",
       "      <th>Latitude</th>\n",
       "      <th>Longitude</th>\n",
       "      <th>Graffiti</th>\n",
       "      <th>Drinking_Fountain</th>\n",
       "      <th>Google_Trends</th>\n",
       "    </tr>\n",
       "    <tr>\n",
       "      <th>DateTimeMix</th>\n",
       "      <th></th>\n",
       "      <th></th>\n",
       "      <th></th>\n",
       "      <th></th>\n",
       "      <th></th>\n",
       "      <th></th>\n",
       "      <th></th>\n",
       "      <th></th>\n",
       "      <th></th>\n",
       "      <th></th>\n",
       "      <th></th>\n",
       "    </tr>\n",
       "  </thead>\n",
       "  <tbody>\n",
       "    <tr>\n",
       "      <th>2004-10-08 21:00:00</th>\n",
       "      <td>2004</td>\n",
       "      <td>10</td>\n",
       "      <td>8</td>\n",
       "      <td>21.0</td>\n",
       "      <td>0.0</td>\n",
       "      <td>Fairview</td>\n",
       "      <td>49.265076</td>\n",
       "      <td>-123.118474</td>\n",
       "      <td>0.040765</td>\n",
       "      <td>0.402295</td>\n",
       "      <td>72</td>\n",
       "    </tr>\n",
       "  </tbody>\n",
       "</table>\n",
       "</div>"
      ],
      "text/plain": [
       "                     YEAR  MONTH  DAY  HOUR  MINUTE Neighbourhood   Latitude  \\\n",
       "DateTimeMix                                                                    \n",
       "2004-10-08 21:00:00  2004     10    8  21.0     0.0      Fairview  49.265076   \n",
       "\n",
       "                      Longitude  Graffiti  Drinking_Fountain  Google_Trends  \n",
       "DateTimeMix                                                                  \n",
       "2004-10-08 21:00:00 -123.118474  0.040765           0.402295             72  "
      ]
     },
     "execution_count": 2,
     "metadata": {},
     "output_type": "execute_result"
    }
   ],
   "source": [
    "print (\"------ Adding date-time object as key ------\\n\")\n",
    "date_time_col = pd.to_datetime(df[['YEAR', 'MONTH', 'DAY', 'HOUR','MINUTE']])\n",
    "\n",
    "# Make the added Date the index of the dataset\n",
    "df['DateTimeMix'] = date_time_col\n",
    "df.set_index('DateTimeMix', inplace=True)\n",
    "\n",
    "print(\"Sample row\")\n",
    "df.head(1)\n",
    "     "
   ]
  },
  {
   "cell_type": "code",
   "execution_count": 3,
   "id": "dddd98aa-a947-4492-8369-20d6c6e35007",
   "metadata": {},
   "outputs": [
    {
     "name": "stdout",
     "output_type": "stream",
     "text": [
      "Sample row\n"
     ]
    },
    {
     "data": {
      "text/html": [
       "<div>\n",
       "<style scoped>\n",
       "    .dataframe tbody tr th:only-of-type {\n",
       "        vertical-align: middle;\n",
       "    }\n",
       "\n",
       "    .dataframe tbody tr th {\n",
       "        vertical-align: top;\n",
       "    }\n",
       "\n",
       "    .dataframe thead th {\n",
       "        text-align: right;\n",
       "    }\n",
       "</style>\n",
       "<table border=\"1\" class=\"dataframe\">\n",
       "  <thead>\n",
       "    <tr style=\"text-align: right;\">\n",
       "      <th></th>\n",
       "      <th>YEAR</th>\n",
       "      <th>MONTH</th>\n",
       "      <th>DAY</th>\n",
       "      <th>HOUR</th>\n",
       "      <th>MINUTE</th>\n",
       "      <th>Neighbourhood</th>\n",
       "      <th>Latitude</th>\n",
       "      <th>Longitude</th>\n",
       "      <th>Graffiti</th>\n",
       "      <th>Drinking_Fountain</th>\n",
       "      <th>Google_Trends</th>\n",
       "      <th>Crime</th>\n",
       "    </tr>\n",
       "    <tr>\n",
       "      <th>DateTimeMix</th>\n",
       "      <th></th>\n",
       "      <th></th>\n",
       "      <th></th>\n",
       "      <th></th>\n",
       "      <th></th>\n",
       "      <th></th>\n",
       "      <th></th>\n",
       "      <th></th>\n",
       "      <th></th>\n",
       "      <th></th>\n",
       "      <th></th>\n",
       "      <th></th>\n",
       "    </tr>\n",
       "  </thead>\n",
       "  <tbody>\n",
       "    <tr>\n",
       "      <th>2004-10-08 21:00:00</th>\n",
       "      <td>2004</td>\n",
       "      <td>10</td>\n",
       "      <td>8</td>\n",
       "      <td>21.0</td>\n",
       "      <td>0.0</td>\n",
       "      <td>Fairview</td>\n",
       "      <td>49.265076</td>\n",
       "      <td>-123.118474</td>\n",
       "      <td>0.040765</td>\n",
       "      <td>0.402295</td>\n",
       "      <td>72</td>\n",
       "      <td>1</td>\n",
       "    </tr>\n",
       "  </tbody>\n",
       "</table>\n",
       "</div>"
      ],
      "text/plain": [
       "                     YEAR  MONTH  DAY  HOUR  MINUTE Neighbourhood   Latitude  \\\n",
       "DateTimeMix                                                                    \n",
       "2004-10-08 21:00:00  2004     10    8  21.0     0.0      Fairview  49.265076   \n",
       "\n",
       "                      Longitude  Graffiti  Drinking_Fountain  Google_Trends  \\\n",
       "DateTimeMix                                                                   \n",
       "2004-10-08 21:00:00 -123.118474  0.040765           0.402295             72   \n",
       "\n",
       "                     Crime  \n",
       "DateTimeMix                 \n",
       "2004-10-08 21:00:00      1  "
      ]
     },
     "execution_count": 3,
     "metadata": {},
     "output_type": "execute_result"
    }
   ],
   "source": [
    "df['Crime'] = 1\n",
    "print(\"Sample row\")\n",
    "df.head(1)\n",
    "     "
   ]
  },
  {
   "cell_type": "code",
   "execution_count": 4,
   "id": "428d2b65-39ce-49fb-986f-3448e8d18502",
   "metadata": {},
   "outputs": [
    {
     "name": "stdout",
     "output_type": "stream",
     "text": [
      "List of Neighbourhoods : \n"
     ]
    },
    {
     "data": {
      "text/html": [
       "<div>\n",
       "<style scoped>\n",
       "    .dataframe tbody tr th:only-of-type {\n",
       "        vertical-align: middle;\n",
       "    }\n",
       "\n",
       "    .dataframe tbody tr th {\n",
       "        vertical-align: top;\n",
       "    }\n",
       "\n",
       "    .dataframe thead th {\n",
       "        text-align: right;\n",
       "    }\n",
       "</style>\n",
       "<table border=\"1\" class=\"dataframe\">\n",
       "  <thead>\n",
       "    <tr style=\"text-align: right;\">\n",
       "      <th></th>\n",
       "      <th>MAPID</th>\n",
       "      <th>NAME</th>\n",
       "      <th>Latitude</th>\n",
       "      <th>Longitude</th>\n",
       "    </tr>\n",
       "  </thead>\n",
       "  <tbody>\n",
       "    <tr>\n",
       "      <th>0</th>\n",
       "      <td>SUN</td>\n",
       "      <td>Sunset</td>\n",
       "      <td>49.218650</td>\n",
       "      <td>-123.091376</td>\n",
       "    </tr>\n",
       "    <tr>\n",
       "      <th>1</th>\n",
       "      <td>MP</td>\n",
       "      <td>Mount Pleasant</td>\n",
       "      <td>49.263060</td>\n",
       "      <td>-123.099888</td>\n",
       "    </tr>\n",
       "    <tr>\n",
       "      <th>2</th>\n",
       "      <td>RP</td>\n",
       "      <td>Riley Park</td>\n",
       "      <td>49.244679</td>\n",
       "      <td>-123.103239</td>\n",
       "    </tr>\n",
       "    <tr>\n",
       "      <th>3</th>\n",
       "      <td>CBD</td>\n",
       "      <td>Downtown</td>\n",
       "      <td>49.279255</td>\n",
       "      <td>-123.119137</td>\n",
       "    </tr>\n",
       "    <tr>\n",
       "      <th>4</th>\n",
       "      <td>KITS</td>\n",
       "      <td>Kitsilano</td>\n",
       "      <td>49.265663</td>\n",
       "      <td>-123.166947</td>\n",
       "    </tr>\n",
       "    <tr>\n",
       "      <th>5</th>\n",
       "      <td>DS</td>\n",
       "      <td>Dunbar-Southlands</td>\n",
       "      <td>49.242361</td>\n",
       "      <td>-123.185280</td>\n",
       "    </tr>\n",
       "    <tr>\n",
       "      <th>6</th>\n",
       "      <td>KERR</td>\n",
       "      <td>Kerrisdale</td>\n",
       "      <td>49.225466</td>\n",
       "      <td>-123.157878</td>\n",
       "    </tr>\n",
       "    <tr>\n",
       "      <th>7</th>\n",
       "      <td>AR</td>\n",
       "      <td>Arbutus-Ridge</td>\n",
       "      <td>49.245938</td>\n",
       "      <td>-123.160737</td>\n",
       "    </tr>\n",
       "    <tr>\n",
       "      <th>8</th>\n",
       "      <td>WPG</td>\n",
       "      <td>West Point Grey</td>\n",
       "      <td>49.265928</td>\n",
       "      <td>-123.202077</td>\n",
       "    </tr>\n",
       "    <tr>\n",
       "      <th>9</th>\n",
       "      <td>MARP</td>\n",
       "      <td>Marpole</td>\n",
       "      <td>49.210702</td>\n",
       "      <td>-123.130159</td>\n",
       "    </tr>\n",
       "    <tr>\n",
       "      <th>10</th>\n",
       "      <td>OAK</td>\n",
       "      <td>Oakridge</td>\n",
       "      <td>49.226350</td>\n",
       "      <td>-123.123689</td>\n",
       "    </tr>\n",
       "    <tr>\n",
       "      <th>11</th>\n",
       "      <td>SHAU</td>\n",
       "      <td>Shaughnessy</td>\n",
       "      <td>49.244443</td>\n",
       "      <td>-123.140041</td>\n",
       "    </tr>\n",
       "    <tr>\n",
       "      <th>12</th>\n",
       "      <td>FAIR</td>\n",
       "      <td>Fairview</td>\n",
       "      <td>49.263421</td>\n",
       "      <td>-123.131514</td>\n",
       "    </tr>\n",
       "    <tr>\n",
       "      <th>13</th>\n",
       "      <td>SC</td>\n",
       "      <td>South Cambie</td>\n",
       "      <td>49.245246</td>\n",
       "      <td>-123.121495</td>\n",
       "    </tr>\n",
       "    <tr>\n",
       "      <th>14</th>\n",
       "      <td>WE</td>\n",
       "      <td>West End</td>\n",
       "      <td>49.285170</td>\n",
       "      <td>-123.134074</td>\n",
       "    </tr>\n",
       "    <tr>\n",
       "      <th>15</th>\n",
       "      <td>KIL</td>\n",
       "      <td>Killarney</td>\n",
       "      <td>49.220042</td>\n",
       "      <td>-123.038120</td>\n",
       "    </tr>\n",
       "    <tr>\n",
       "      <th>16</th>\n",
       "      <td>RC</td>\n",
       "      <td>Renfrew-Collingwood</td>\n",
       "      <td>49.248648</td>\n",
       "      <td>-123.040758</td>\n",
       "    </tr>\n",
       "    <tr>\n",
       "      <th>17</th>\n",
       "      <td>HS</td>\n",
       "      <td>Hastings-Sunrise</td>\n",
       "      <td>49.275951</td>\n",
       "      <td>-123.041252</td>\n",
       "    </tr>\n",
       "    <tr>\n",
       "      <th>18</th>\n",
       "      <td>VF</td>\n",
       "      <td>Victoria-Fraserview</td>\n",
       "      <td>49.220273</td>\n",
       "      <td>-123.063993</td>\n",
       "    </tr>\n",
       "    <tr>\n",
       "      <th>19</th>\n",
       "      <td>KC</td>\n",
       "      <td>Kensington-Cedar Cottage</td>\n",
       "      <td>49.246225</td>\n",
       "      <td>-123.074036</td>\n",
       "    </tr>\n",
       "    <tr>\n",
       "      <th>20</th>\n",
       "      <td>STR</td>\n",
       "      <td>Strathcona</td>\n",
       "      <td>49.273320</td>\n",
       "      <td>-123.089306</td>\n",
       "    </tr>\n",
       "    <tr>\n",
       "      <th>21</th>\n",
       "      <td>GW</td>\n",
       "      <td>Grandview-Woodland</td>\n",
       "      <td>49.274305</td>\n",
       "      <td>-123.067423</td>\n",
       "    </tr>\n",
       "  </tbody>\n",
       "</table>\n",
       "</div>"
      ],
      "text/plain": [
       "   MAPID                      NAME   Latitude   Longitude\n",
       "0    SUN                    Sunset  49.218650 -123.091376\n",
       "1     MP            Mount Pleasant  49.263060 -123.099888\n",
       "2     RP                Riley Park  49.244679 -123.103239\n",
       "3    CBD                  Downtown  49.279255 -123.119137\n",
       "4   KITS                 Kitsilano  49.265663 -123.166947\n",
       "5     DS         Dunbar-Southlands  49.242361 -123.185280\n",
       "6   KERR                Kerrisdale  49.225466 -123.157878\n",
       "7     AR             Arbutus-Ridge  49.245938 -123.160737\n",
       "8    WPG           West Point Grey  49.265928 -123.202077\n",
       "9   MARP                   Marpole  49.210702 -123.130159\n",
       "10   OAK                  Oakridge  49.226350 -123.123689\n",
       "11  SHAU               Shaughnessy  49.244443 -123.140041\n",
       "12  FAIR                  Fairview  49.263421 -123.131514\n",
       "13    SC              South Cambie  49.245246 -123.121495\n",
       "14    WE                  West End  49.285170 -123.134074\n",
       "15   KIL                 Killarney  49.220042 -123.038120\n",
       "16    RC       Renfrew-Collingwood  49.248648 -123.040758\n",
       "17    HS          Hastings-Sunrise  49.275951 -123.041252\n",
       "18    VF       Victoria-Fraserview  49.220273 -123.063993\n",
       "19    KC  Kensington-Cedar Cottage  49.246225 -123.074036\n",
       "20   STR                Strathcona  49.273320 -123.089306\n",
       "21    GW        Grandview-Woodland  49.274305 -123.067423"
      ]
     },
     "execution_count": 4,
     "metadata": {},
     "output_type": "execute_result"
    }
   ],
   "source": [
    "nb_file_path = 'cov_localareas.csv'\n",
    "\n",
    "neighbourhoods = pd.read_csv(nb_file_path)\n",
    "print(\"List of Neighbourhoods : \")\n",
    "neighbourhoods\n",
    "     "
   ]
  },
  {
   "cell_type": "code",
   "execution_count": 5,
   "id": "05994304-ebbf-4328-8050-dd1daeaf37c0",
   "metadata": {},
   "outputs": [
    {
     "data": {
      "text/plain": [
       "(49.262745235098045, -123.13256746757632)"
      ]
     },
     "execution_count": 5,
     "metadata": {},
     "output_type": "execute_result"
    }
   ],
   "source": [
    "import random\n",
    "import math\n",
    "\n",
    "def RandomLatLong(nieghbourhood, radius):\n",
    "  \n",
    "  r = radius/111300            \n",
    "  \n",
    "  row = neighbourhoods[neighbourhoods['NAME'] == nieghbourhood]\n",
    "\n",
    "  x0 = float(row['Latitude'])\n",
    "  y0 = float(row['Longitude'])\n",
    "  \n",
    "  u = float(random.uniform(0.0,1.0))\n",
    "  v = float(random.uniform(0.0,1.0))\n",
    "\n",
    "  w = r * math.sqrt(u)\n",
    "  t = 2 * math.pi * v\n",
    "  x = w * math.cos(t) \n",
    "  y = w * math.sin(t)\n",
    "\n",
    "  xLat  = x + x0\n",
    "  yLong = y + y0\n",
    "\n",
    "  return (xLat, yLong)\n",
    "\n",
    "RandomLatLong('Fairview', 500)"
   ]
  },
  {
   "cell_type": "code",
   "execution_count": 6,
   "id": "7cc262b3-0a78-4641-89dd-e07a51f9ef0c",
   "metadata": {},
   "outputs": [
    {
     "name": "stdout",
     "output_type": "stream",
     "text": [
      "Number of graffiti instances: (8507, 2)\n",
      "Sample row\n"
     ]
    },
    {
     "data": {
      "text/html": [
       "<div>\n",
       "<style scoped>\n",
       "    .dataframe tbody tr th:only-of-type {\n",
       "        vertical-align: middle;\n",
       "    }\n",
       "\n",
       "    .dataframe tbody tr th {\n",
       "        vertical-align: top;\n",
       "    }\n",
       "\n",
       "    .dataframe thead th {\n",
       "        text-align: right;\n",
       "    }\n",
       "</style>\n",
       "<table border=\"1\" class=\"dataframe\">\n",
       "  <thead>\n",
       "    <tr style=\"text-align: right;\">\n",
       "      <th></th>\n",
       "      <th>Latitude</th>\n",
       "      <th>Longitude</th>\n",
       "    </tr>\n",
       "  </thead>\n",
       "  <tbody>\n",
       "    <tr>\n",
       "      <th>0</th>\n",
       "      <td>49.22386</td>\n",
       "      <td>-123.090426</td>\n",
       "    </tr>\n",
       "  </tbody>\n",
       "</table>\n",
       "</div>"
      ],
      "text/plain": [
       "   Latitude   Longitude\n",
       "0  49.22386 -123.090426"
      ]
     },
     "execution_count": 6,
     "metadata": {},
     "output_type": "execute_result"
    }
   ],
   "source": [
    "gr_file_path = 'Graffiti.csv'\n",
    "\n",
    "graffiti = pd.read_csv(gr_file_path)\n",
    "print(\"Number of graffiti instances: \" + str(graffiti.shape))\n",
    "print(\"Sample row\")\n",
    "graffiti.head(1)\n",
    "     "
   ]
  },
  {
   "cell_type": "code",
   "execution_count": 7,
   "id": "d4035708-1155-4307-94b0-e24f39d3e526",
   "metadata": {},
   "outputs": [
    {
     "name": "stdout",
     "output_type": "stream",
     "text": [
      "Sample row\n",
      "   Latitude  Longitude\n",
      "0  0.859118  -2.148333\n"
     ]
    }
   ],
   "source": [
    "graffiti = graffiti.apply(np.radians)\n",
    "print(\"Sample row\")\n",
    "print(graffiti.head(1))\n",
    "graffiti = graffiti.values\n"
   ]
  },
  {
   "cell_type": "code",
   "execution_count": 8,
   "id": "ca3af650-3b0e-4715-a3af-a934a86c561c",
   "metadata": {},
   "outputs": [
    {
     "data": {
      "text/plain": [
       "0.040765350813073524"
      ]
     },
     "execution_count": 8,
     "metadata": {},
     "output_type": "execute_result"
    }
   ],
   "source": [
    "def DistanceToGraffiti(lat1, lon1):\n",
    "    r = 6371 # Radius of earth in kilometers\n",
    "    \n",
    "    coordinates = np.array([np.radians(lat1), np.radians(lon1)])\n",
    "    diff_array = graffiti - coordinates\n",
    "    \n",
    "    # Applying the haversine formula as array functions for speed\n",
    "    a = np.square(np.sin(diff_array[:, 0]/2.0)) + np.cos(coordinates[0]) * np.cos(graffiti[:, 0]) * np.square(np.sin(diff_array[:, 1]/2.0))\n",
    "    c = 2 * np.arcsin(np.sqrt(a)) \n",
    "    return np.amin(c)*r\n",
    "\n",
    "DistanceToGraffiti(49.2650765,-123.1184743)"
   ]
  },
  {
   "cell_type": "code",
   "execution_count": 9,
   "id": "de4653ed-b82e-49d3-90a9-682427780306",
   "metadata": {},
   "outputs": [
    {
     "name": "stdout",
     "output_type": "stream",
     "text": [
      "Number of drinking fountains: (240, 2)\n",
      "Sample row\n"
     ]
    },
    {
     "data": {
      "text/html": [
       "<div>\n",
       "<style scoped>\n",
       "    .dataframe tbody tr th:only-of-type {\n",
       "        vertical-align: middle;\n",
       "    }\n",
       "\n",
       "    .dataframe tbody tr th {\n",
       "        vertical-align: top;\n",
       "    }\n",
       "\n",
       "    .dataframe thead th {\n",
       "        text-align: right;\n",
       "    }\n",
       "</style>\n",
       "<table border=\"1\" class=\"dataframe\">\n",
       "  <thead>\n",
       "    <tr style=\"text-align: right;\">\n",
       "      <th></th>\n",
       "      <th>LATITUDE</th>\n",
       "      <th>LONGITUDE</th>\n",
       "    </tr>\n",
       "  </thead>\n",
       "  <tbody>\n",
       "    <tr>\n",
       "      <th>0</th>\n",
       "      <td>49.234947</td>\n",
       "      <td>-123.027254</td>\n",
       "    </tr>\n",
       "  </tbody>\n",
       "</table>\n",
       "</div>"
      ],
      "text/plain": [
       "    LATITUDE   LONGITUDE\n",
       "0  49.234947 -123.027254"
      ]
     },
     "execution_count": 9,
     "metadata": {},
     "output_type": "execute_result"
    }
   ],
   "source": [
    "df_file_path = 'drinking_fountains.csv'\n",
    "\n",
    "drinking = pd.read_csv(df_file_path)\n",
    "drinking = drinking[['LATITUDE', 'LONGITUDE']]\n",
    "print(\"Number of drinking fountains: \" + str(drinking.shape))\n",
    "print(\"Sample row\")\n",
    "drinking.head(1)"
   ]
  },
  {
   "cell_type": "code",
   "execution_count": 10,
   "id": "a63abbf1-09c3-44b3-ba54-1db1093404be",
   "metadata": {},
   "outputs": [
    {
     "name": "stdout",
     "output_type": "stream",
     "text": [
      "Sample row\n",
      "   LATITUDE  LONGITUDE\n",
      "0  0.859312  -2.147231\n"
     ]
    }
   ],
   "source": [
    "drinking = drinking.apply(np.radians)\n",
    "print(\"Sample row\")\n",
    "print(drinking.head(1))\n",
    "drinking = drinking.values"
   ]
  },
  {
   "cell_type": "code",
   "execution_count": 11,
   "id": "f234a325-1eb6-4ebb-88b4-7ecf8dab29aa",
   "metadata": {},
   "outputs": [
    {
     "data": {
      "text/plain": [
       "0.40229507588315133"
      ]
     },
     "execution_count": 11,
     "metadata": {},
     "output_type": "execute_result"
    }
   ],
   "source": [
    "def DistanceToFountain(lat1, lon1):\n",
    "    r = 6371 # Radius of earth in kilometers\n",
    "    \n",
    "    coordinates = np.array([np.radians(lat1), np.radians(lon1)])\n",
    "    diff_array = drinking - coordinates\n",
    "    \n",
    "    # Applying the haversine formula as array functions for speed\n",
    "    a = np.square(np.sin(diff_array[:, 0]/2.0)) + np.cos(coordinates[0]) * np.cos(drinking[:, 0]) * np.square(np.sin(diff_array[:, 1]/2.0))\n",
    "    c = 2 * np.arcsin(np.sqrt(a)) \n",
    "    return np.amin(c)*r\n",
    "\n",
    "DistanceToFountain(49.2650765,-123.1184743)"
   ]
  },
  {
   "cell_type": "code",
   "execution_count": 21,
   "id": "2449834d-79ef-425e-93ca-a9c41fde8426",
   "metadata": {},
   "outputs": [],
   "source": [
    "import random\n",
    "\n",
    "df_extra = df.groupby(level=0).count().resample('30min').asfreq()\n",
    "df_extra = df_extra[pd.isna((df_extra['HOUR']))]\n",
    "\n",
    "df_extra['Crime'] = 0\n",
    "df_extra['YEAR'] = df_extra.index.year\n",
    "df_extra['MONTH'] = df_extra.index.month\n",
    "df_extra['DAY'] = df_extra.index.day\n",
    "df_extra['HOUR'] = df_extra.index.hour\n",
    "df_extra['MINUTE'] = df_extra.index.minute\n",
    "df_extra['Neighbourhood'] = [neighbourhoods.sample()['NAME'].values[0] for i in range(0,df_extra.values.shape[0])]\n",
    "df_extra[['Latitude', 'Longitude']] = df_extra['Neighbourhood'].apply(lambda x: RandomLatLong(x, 500)).apply(pd.Series)\n",
    "df_extra['Graffiti'] = df_extra.apply(lambda x: DistanceToGraffiti(x['Latitude'], x['Longitude']), axis=1)\n",
    "#df_extra['Drinking_Fountain'] = df_extra.apply(lambda x: DistanceToFountain(x['Latitude'], x['Longitude'],  axis=1)\n",
    "df_extra['Drinking_Fountain'] = df_extra.apply(lambda x: DistanceToFountain(x['Latitude'], x['Longitude']), axis=1)"
   ]
  },
  {
   "cell_type": "code",
   "execution_count": 22,
   "id": "ddb5ea41-c6cd-4c21-a52c-c878c2b742d4",
   "metadata": {},
   "outputs": [
    {
     "data": {
      "text/html": [
       "<div>\n",
       "<style scoped>\n",
       "    .dataframe tbody tr th:only-of-type {\n",
       "        vertical-align: middle;\n",
       "    }\n",
       "\n",
       "    .dataframe tbody tr th {\n",
       "        vertical-align: top;\n",
       "    }\n",
       "\n",
       "    .dataframe thead th {\n",
       "        text-align: right;\n",
       "    }\n",
       "</style>\n",
       "<table border=\"1\" class=\"dataframe\">\n",
       "  <thead>\n",
       "    <tr style=\"text-align: right;\">\n",
       "      <th></th>\n",
       "      <th>YEAR</th>\n",
       "      <th>MONTH</th>\n",
       "      <th>DAY</th>\n",
       "      <th>HOUR</th>\n",
       "      <th>MINUTE</th>\n",
       "      <th>Neighbourhood</th>\n",
       "      <th>Latitude</th>\n",
       "      <th>Longitude</th>\n",
       "      <th>Graffiti</th>\n",
       "      <th>Drinking_Fountain</th>\n",
       "      <th>Google_Trends</th>\n",
       "      <th>Crime</th>\n",
       "    </tr>\n",
       "    <tr>\n",
       "      <th>DateTimeMix</th>\n",
       "      <th></th>\n",
       "      <th></th>\n",
       "      <th></th>\n",
       "      <th></th>\n",
       "      <th></th>\n",
       "      <th></th>\n",
       "      <th></th>\n",
       "      <th></th>\n",
       "      <th></th>\n",
       "      <th></th>\n",
       "      <th></th>\n",
       "      <th></th>\n",
       "    </tr>\n",
       "  </thead>\n",
       "  <tbody>\n",
       "    <tr>\n",
       "      <th>2004-01-01 00:30:00</th>\n",
       "      <td>2004</td>\n",
       "      <td>1</td>\n",
       "      <td>1</td>\n",
       "      <td>0</td>\n",
       "      <td>30</td>\n",
       "      <td>Kensington-Cedar Cottage</td>\n",
       "      <td>49.247297</td>\n",
       "      <td>-123.074765</td>\n",
       "      <td>0.152933</td>\n",
       "      <td>0.013823</td>\n",
       "      <td>NaN</td>\n",
       "      <td>0</td>\n",
       "    </tr>\n",
       "    <tr>\n",
       "      <th>2004-01-01 01:30:00</th>\n",
       "      <td>2004</td>\n",
       "      <td>1</td>\n",
       "      <td>1</td>\n",
       "      <td>1</td>\n",
       "      <td>30</td>\n",
       "      <td>Sunset</td>\n",
       "      <td>49.219631</td>\n",
       "      <td>-123.088438</td>\n",
       "      <td>0.188209</td>\n",
       "      <td>0.485684</td>\n",
       "      <td>NaN</td>\n",
       "      <td>0</td>\n",
       "    </tr>\n",
       "    <tr>\n",
       "      <th>2004-01-01 02:00:00</th>\n",
       "      <td>2004</td>\n",
       "      <td>1</td>\n",
       "      <td>1</td>\n",
       "      <td>2</td>\n",
       "      <td>0</td>\n",
       "      <td>Grandview-Woodland</td>\n",
       "      <td>49.272441</td>\n",
       "      <td>-123.063622</td>\n",
       "      <td>0.043247</td>\n",
       "      <td>0.245750</td>\n",
       "      <td>NaN</td>\n",
       "      <td>0</td>\n",
       "    </tr>\n",
       "    <tr>\n",
       "      <th>2004-01-01 02:30:00</th>\n",
       "      <td>2004</td>\n",
       "      <td>1</td>\n",
       "      <td>1</td>\n",
       "      <td>2</td>\n",
       "      <td>30</td>\n",
       "      <td>Renfrew-Collingwood</td>\n",
       "      <td>49.252664</td>\n",
       "      <td>-123.040223</td>\n",
       "      <td>0.233850</td>\n",
       "      <td>0.148564</td>\n",
       "      <td>NaN</td>\n",
       "      <td>0</td>\n",
       "    </tr>\n",
       "  </tbody>\n",
       "</table>\n",
       "</div>"
      ],
      "text/plain": [
       "                     YEAR  MONTH  DAY  HOUR  MINUTE             Neighbourhood  \\\n",
       "DateTimeMix                                                                     \n",
       "2004-01-01 00:30:00  2004      1    1     0      30  Kensington-Cedar Cottage   \n",
       "2004-01-01 01:30:00  2004      1    1     1      30                    Sunset   \n",
       "2004-01-01 02:00:00  2004      1    1     2       0        Grandview-Woodland   \n",
       "2004-01-01 02:30:00  2004      1    1     2      30       Renfrew-Collingwood   \n",
       "\n",
       "                      Latitude   Longitude  Graffiti  Drinking_Fountain  \\\n",
       "DateTimeMix                                                               \n",
       "2004-01-01 00:30:00  49.247297 -123.074765  0.152933           0.013823   \n",
       "2004-01-01 01:30:00  49.219631 -123.088438  0.188209           0.485684   \n",
       "2004-01-01 02:00:00  49.272441 -123.063622  0.043247           0.245750   \n",
       "2004-01-01 02:30:00  49.252664 -123.040223  0.233850           0.148564   \n",
       "\n",
       "                     Google_Trends  Crime  \n",
       "DateTimeMix                                \n",
       "2004-01-01 00:30:00            NaN      0  \n",
       "2004-01-01 01:30:00            NaN      0  \n",
       "2004-01-01 02:00:00            NaN      0  \n",
       "2004-01-01 02:30:00            NaN      0  "
      ]
     },
     "execution_count": 22,
     "metadata": {},
     "output_type": "execute_result"
    }
   ],
   "source": [
    "df_extra.head(4)"
   ]
  },
  {
   "cell_type": "code",
   "execution_count": 23,
   "id": "cbc83c92-2d52-447e-a546-3329298ed68e",
   "metadata": {},
   "outputs": [],
   "source": [
    "trendpath = 'googletrend.csv'\n",
    "\n",
    "googletrend = pd.read_csv(trendpath, index_col='Month')\n",
    "googletrend = np.array(googletrend)\n",
    "trendvalue = []"
   ]
  },
  {
   "cell_type": "code",
   "execution_count": 24,
   "id": "7fcf517b-39ad-4bed-8aee-1a9d12428969",
   "metadata": {},
   "outputs": [],
   "source": [
    "for i, crime in df_extra.iterrows():\n",
    "    #obtain the year and month of each crime\n",
    "    y = crime['YEAR']\n",
    "    m = crime['MONTH']\n",
    "    #map it to the previous month in the other dataset \n",
    "    offset = (y - 2004)*12 + m - 1 - 1\n",
    "    if offset == -1:\n",
    "      offset = 0\n",
    "    #store google trend value of the word 'crime' in an array\n",
    "    trendvalue.append(googletrend[offset][0])"
   ]
  },
  {
   "cell_type": "code",
   "execution_count": 25,
   "id": "5ac6acbe-9459-4a51-8c32-dbf98f61e3b5",
   "metadata": {},
   "outputs": [],
   "source": [
    "df_extra['Google_Trends'] = trendvalue"
   ]
  },
  {
   "cell_type": "code",
   "execution_count": 26,
   "id": "4fc09753-b855-4efc-ad2c-9fa002b38414",
   "metadata": {},
   "outputs": [
    {
     "data": {
      "text/html": [
       "<div>\n",
       "<style scoped>\n",
       "    .dataframe tbody tr th:only-of-type {\n",
       "        vertical-align: middle;\n",
       "    }\n",
       "\n",
       "    .dataframe tbody tr th {\n",
       "        vertical-align: top;\n",
       "    }\n",
       "\n",
       "    .dataframe thead th {\n",
       "        text-align: right;\n",
       "    }\n",
       "</style>\n",
       "<table border=\"1\" class=\"dataframe\">\n",
       "  <thead>\n",
       "    <tr style=\"text-align: right;\">\n",
       "      <th></th>\n",
       "      <th>YEAR</th>\n",
       "      <th>MONTH</th>\n",
       "      <th>DAY</th>\n",
       "      <th>HOUR</th>\n",
       "      <th>MINUTE</th>\n",
       "      <th>Neighbourhood</th>\n",
       "      <th>Latitude</th>\n",
       "      <th>Longitude</th>\n",
       "      <th>Graffiti</th>\n",
       "      <th>Drinking_Fountain</th>\n",
       "      <th>Google_Trends</th>\n",
       "      <th>Crime</th>\n",
       "    </tr>\n",
       "    <tr>\n",
       "      <th>DateTimeMix</th>\n",
       "      <th></th>\n",
       "      <th></th>\n",
       "      <th></th>\n",
       "      <th></th>\n",
       "      <th></th>\n",
       "      <th></th>\n",
       "      <th></th>\n",
       "      <th></th>\n",
       "      <th></th>\n",
       "      <th></th>\n",
       "      <th></th>\n",
       "      <th></th>\n",
       "    </tr>\n",
       "  </thead>\n",
       "  <tbody>\n",
       "    <tr>\n",
       "      <th>2004-01-01 00:30:00</th>\n",
       "      <td>2004</td>\n",
       "      <td>1</td>\n",
       "      <td>1</td>\n",
       "      <td>0</td>\n",
       "      <td>30</td>\n",
       "      <td>Kensington-Cedar Cottage</td>\n",
       "      <td>49.247297</td>\n",
       "      <td>-123.074765</td>\n",
       "      <td>0.152933</td>\n",
       "      <td>0.013823</td>\n",
       "      <td>91</td>\n",
       "      <td>0</td>\n",
       "    </tr>\n",
       "    <tr>\n",
       "      <th>2004-01-01 01:30:00</th>\n",
       "      <td>2004</td>\n",
       "      <td>1</td>\n",
       "      <td>1</td>\n",
       "      <td>1</td>\n",
       "      <td>30</td>\n",
       "      <td>Sunset</td>\n",
       "      <td>49.219631</td>\n",
       "      <td>-123.088438</td>\n",
       "      <td>0.188209</td>\n",
       "      <td>0.485684</td>\n",
       "      <td>91</td>\n",
       "      <td>0</td>\n",
       "    </tr>\n",
       "    <tr>\n",
       "      <th>2004-01-01 02:00:00</th>\n",
       "      <td>2004</td>\n",
       "      <td>1</td>\n",
       "      <td>1</td>\n",
       "      <td>2</td>\n",
       "      <td>0</td>\n",
       "      <td>Grandview-Woodland</td>\n",
       "      <td>49.272441</td>\n",
       "      <td>-123.063622</td>\n",
       "      <td>0.043247</td>\n",
       "      <td>0.245750</td>\n",
       "      <td>91</td>\n",
       "      <td>0</td>\n",
       "    </tr>\n",
       "    <tr>\n",
       "      <th>2004-01-01 02:30:00</th>\n",
       "      <td>2004</td>\n",
       "      <td>1</td>\n",
       "      <td>1</td>\n",
       "      <td>2</td>\n",
       "      <td>30</td>\n",
       "      <td>Renfrew-Collingwood</td>\n",
       "      <td>49.252664</td>\n",
       "      <td>-123.040223</td>\n",
       "      <td>0.233850</td>\n",
       "      <td>0.148564</td>\n",
       "      <td>91</td>\n",
       "      <td>0</td>\n",
       "    </tr>\n",
       "  </tbody>\n",
       "</table>\n",
       "</div>"
      ],
      "text/plain": [
       "                     YEAR  MONTH  DAY  HOUR  MINUTE             Neighbourhood  \\\n",
       "DateTimeMix                                                                     \n",
       "2004-01-01 00:30:00  2004      1    1     0      30  Kensington-Cedar Cottage   \n",
       "2004-01-01 01:30:00  2004      1    1     1      30                    Sunset   \n",
       "2004-01-01 02:00:00  2004      1    1     2       0        Grandview-Woodland   \n",
       "2004-01-01 02:30:00  2004      1    1     2      30       Renfrew-Collingwood   \n",
       "\n",
       "                      Latitude   Longitude  Graffiti  Drinking_Fountain  \\\n",
       "DateTimeMix                                                               \n",
       "2004-01-01 00:30:00  49.247297 -123.074765  0.152933           0.013823   \n",
       "2004-01-01 01:30:00  49.219631 -123.088438  0.188209           0.485684   \n",
       "2004-01-01 02:00:00  49.272441 -123.063622  0.043247           0.245750   \n",
       "2004-01-01 02:30:00  49.252664 -123.040223  0.233850           0.148564   \n",
       "\n",
       "                     Google_Trends  Crime  \n",
       "DateTimeMix                                \n",
       "2004-01-01 00:30:00             91      0  \n",
       "2004-01-01 01:30:00             91      0  \n",
       "2004-01-01 02:00:00             91      0  \n",
       "2004-01-01 02:30:00             91      0  "
      ]
     },
     "execution_count": 26,
     "metadata": {},
     "output_type": "execute_result"
    }
   ],
   "source": [
    "df_extra.head(4)"
   ]
  },
  {
   "cell_type": "code",
   "execution_count": 27,
   "id": "cc217cf9-2763-4605-ab4c-6bcd3f02e35f",
   "metadata": {},
   "outputs": [
    {
     "name": "stdout",
     "output_type": "stream",
     "text": [
      "Shape of Original Dataset: (428141, 12)\n",
      "\n",
      "Shape of Upsampled Dataset with No crime values: (542276, 12)\n",
      "\n"
     ]
    },
    {
     "name": "stderr",
     "output_type": "stream",
     "text": [
      "C:\\Users\\APURAV~1\\AppData\\Local\\Temp/ipykernel_3908/4058691887.py:3: FutureWarning: The frame.append method is deprecated and will be removed from pandas in a future version. Use pandas.concat instead.\n",
      "  df = df.append(df_extra)\n"
     ]
    }
   ],
   "source": [
    "print(\"Shape of Original Dataset: \" + str(df.shape) + \"\\n\")\n",
    "\n",
    "df = df.append(df_extra)\n",
    "\n",
    "print(\"Shape of Upsampled Dataset with No crime values: \" + str(df.shape) + \"\\n\")"
   ]
  },
  {
   "cell_type": "code",
   "execution_count": 28,
   "id": "06b6b7e1-6d41-4f40-9705-e8f22fb34ce9",
   "metadata": {},
   "outputs": [],
   "source": [
    "Y = df['Crime'].values\n",
    "X = df[['YEAR','MONTH','DAY','HOUR', 'MINUTE', 'Latitude', 'Longitude', 'Graffiti', 'Drinking_Fountain', 'Google_Trends']].values"
   ]
  },
  {
   "cell_type": "code",
   "execution_count": 29,
   "id": "c2b7dd8f-0329-4bb7-8112-3c6a67f840b4",
   "metadata": {},
   "outputs": [
    {
     "data": {
      "text/plain": [
       "array([ 2.00400000e+03,  1.00000000e+01,  8.00000000e+00,  2.10000000e+01,\n",
       "        0.00000000e+00,  4.92650765e+01, -1.23118474e+02,  4.07653508e-02,\n",
       "        4.02295076e-01,  7.20000000e+01])"
      ]
     },
     "execution_count": 29,
     "metadata": {},
     "output_type": "execute_result"
    }
   ],
   "source": [
    "X[0]"
   ]
  },
  {
   "cell_type": "code",
   "execution_count": 30,
   "id": "f7a74d99-3d6a-4e38-a8b2-490466f29258",
   "metadata": {},
   "outputs": [
    {
     "data": {
      "text/plain": [
       "1"
      ]
     },
     "execution_count": 30,
     "metadata": {},
     "output_type": "execute_result"
    }
   ],
   "source": [
    "Y[0]"
   ]
  },
  {
   "cell_type": "code",
   "execution_count": 31,
   "id": "b2258aab-8dbe-4b74-a494-b3fa41bc00a8",
   "metadata": {},
   "outputs": [
    {
     "name": "stdout",
     "output_type": "stream",
     "text": [
      "[0.         0.81818182 0.23333333 0.91304348 0.         0.57072995\n",
      " 0.52565412 0.0177211  0.17950158 0.46153846]\n"
     ]
    }
   ],
   "source": [
    "from sklearn.preprocessing import MinMaxScaler\n",
    "\n",
    "scaler = MinMaxScaler()\n",
    "\n",
    "scaler.fit(X)\n",
    "X = scaler.transform(X)\n",
    "print(X[0])"
   ]
  },
  {
   "cell_type": "code",
   "execution_count": 32,
   "id": "5a827118-d23a-4632-9125-d4ce1e8fe15b",
   "metadata": {},
   "outputs": [
    {
     "name": "stdout",
     "output_type": "stream",
     "text": [
      "Training Data Size: (363324, 10)\n",
      "Testing Data Size:(178952, 10)\n",
      "Training Label Size: (363324,)\n",
      "Testing Label Size: (178952,)\n"
     ]
    }
   ],
   "source": [
    "from sklearn.model_selection import train_test_split\n",
    "\n",
    "X_train, X_test, Y_train, Y_test = train_test_split(X, Y, test_size=0.33, random_state=42)\n",
    "\n",
    "print(\"Training Data Size: \" + str(X_train.shape))\n",
    "print(\"Testing Data Size:\" + str(X_test.shape))\n",
    "print(\"Training Label Size: \" + str(Y_train.shape))\n",
    "print(\"Testing Label Size: \" + str(Y_test.shape))"
   ]
  },
  {
   "cell_type": "code",
   "execution_count": 38,
   "id": "be4d3b0c-1b65-429f-b78d-c15ce19db733",
   "metadata": {},
   "outputs": [],
   "source": [
    "import matplotlib.pyplot as plt\n",
    "import numpy as np\n",
    "\n",
    "# Function to plot loss and accuracy vs epochs\n",
    "def loss_curve(history):\n",
    "  train_loss = history.history['loss']\n",
    "  val_loss = history.history['val_loss']\n",
    "  x_axis     = range(1, len(history.history['loss'])+1)\n",
    "  \n",
    "  plt.figure()\n",
    "  plt.plot(x_axis, train_loss, label=\"Training Loss\")\n",
    "  plt.plot(x_axis, val_loss, label=\"Validation Loss\")\n",
    "  plt.ylabel('Loss Value')\n",
    "  plt.xlabel('Epochs')\n",
    "  plt.title('Epochs vs Loss')\n",
    "  plt.legend()\n",
    "  \n",
    "def accuracy(history):\n",
    "  acc  = history.history['accuracy']\n",
    "  val_acc = history.history['val_accuracy']\n",
    "  x_axis     = range(1, len(history.history['accuracy'])+1)\n",
    "  \n",
    "  plt.figure()\n",
    "  plt.plot(x_axis, np.dot(acc,100), label=\"Accuracy\")\n",
    "  plt.plot(x_axis, np.dot(val_acc, 100), label=\"Validation Accuracy\")\n",
    "  plt.ylabel('Accuracy')\n",
    "  plt.xlabel('Epochs')\n",
    "  plt.title('Epochs vs Accuracy')\n",
    "  plt.legend()\n",
    "     "
   ]
  },
  {
   "cell_type": "code",
   "execution_count": 34,
   "id": "dfbfb7e9-e7c4-4f10-9817-17d998af9753",
   "metadata": {},
   "outputs": [
    {
     "name": "stdout",
     "output_type": "stream",
     "text": [
      "Model: \"sequential\"\n",
      "_________________________________________________________________\n",
      " Layer (type)                Output Shape              Param #   \n",
      "=================================================================\n",
      " dense (Dense)               (None, 64)                704       \n",
      "                                                                 \n",
      " dense_1 (Dense)             (None, 128)               8320      \n",
      "                                                                 \n",
      " dense_2 (Dense)             (None, 512)               66048     \n",
      "                                                                 \n",
      " dense_3 (Dense)             (None, 128)               65664     \n",
      "                                                                 \n",
      " dense_4 (Dense)             (None, 64)                8256      \n",
      "                                                                 \n",
      " dense_5 (Dense)             (None, 1)                 65        \n",
      "                                                                 \n",
      "=================================================================\n",
      "Total params: 149,057\n",
      "Trainable params: 149,057\n",
      "Non-trainable params: 0\n",
      "_________________________________________________________________\n"
     ]
    }
   ],
   "source": [
    "from keras.layers import Dense, Dropout\n",
    "from keras.models import Sequential\n",
    "\n",
    "model = Sequential()\n",
    "\n",
    "model.add(Dense(64, activation='sigmoid', input_shape=(X_train.shape[1], ) ) )\n",
    "model.add(Dense(128, activation='sigmoid') )\n",
    "model.add(Dense(512, activation='sigmoid') )\n",
    "model.add(Dense(128, activation='sigmoid') )\n",
    "model.add(Dense(64, activation='sigmoid') )\n",
    "\n",
    "\n",
    "model.add(Dense(1, activation='sigmoid') )\n",
    "\n",
    "model.compile(optimizer='rmsprop',\n",
    "                loss='binary_crossentropy',\n",
    "                metrics=['accuracy'])\n",
    "\n",
    "model.summary()"
   ]
  },
  {
   "cell_type": "code",
   "execution_count": 35,
   "id": "697bf893-a93c-4d0c-9b40-b60ca82cf8d6",
   "metadata": {},
   "outputs": [
    {
     "name": "stdout",
     "output_type": "stream",
     "text": [
      "Epoch 1/50\n",
      "2555/2555 [==============================] - 30s 11ms/step - loss: 0.5158 - accuracy: 0.7893 - val_loss: 0.5172 - val_accuracy: 0.7910\n",
      "Epoch 2/50\n",
      "2555/2555 [==============================] - 27s 11ms/step - loss: 0.5152 - accuracy: 0.7895 - val_loss: 0.5126 - val_accuracy: 0.7910\n",
      "Epoch 3/50\n",
      "2555/2555 [==============================] - 27s 11ms/step - loss: 0.5151 - accuracy: 0.7895 - val_loss: 0.5127 - val_accuracy: 0.7910\n",
      "Epoch 4/50\n",
      "2555/2555 [==============================] - 29s 11ms/step - loss: 0.5149 - accuracy: 0.7895 - val_loss: 0.5126 - val_accuracy: 0.7910\n",
      "Epoch 5/50\n",
      "2555/2555 [==============================] - 28s 11ms/step - loss: 0.5148 - accuracy: 0.7895 - val_loss: 0.5126 - val_accuracy: 0.7910\n",
      "Epoch 6/50\n",
      "2555/2555 [==============================] - 28s 11ms/step - loss: 0.5147 - accuracy: 0.7895 - val_loss: 0.5119 - val_accuracy: 0.7910\n",
      "Epoch 7/50\n",
      "2555/2555 [==============================] - 27s 11ms/step - loss: 0.4664 - accuracy: 0.7912 - val_loss: 0.4391 - val_accuracy: 0.7938\n",
      "Epoch 8/50\n",
      "2555/2555 [==============================] - 27s 11ms/step - loss: 0.4444 - accuracy: 0.7957 - val_loss: 0.4397 - val_accuracy: 0.7992\n",
      "Epoch 9/50\n",
      "2555/2555 [==============================] - 28s 11ms/step - loss: 0.4431 - accuracy: 0.7970 - val_loss: 0.4468 - val_accuracy: 0.7956\n",
      "Epoch 10/50\n",
      "2555/2555 [==============================] - 28s 11ms/step - loss: 0.4423 - accuracy: 0.7969 - val_loss: 0.4380 - val_accuracy: 0.7983\n",
      "Epoch 11/50\n",
      "2555/2555 [==============================] - 28s 11ms/step - loss: 0.4419 - accuracy: 0.7973 - val_loss: 0.4366 - val_accuracy: 0.7983\n",
      "Epoch 12/50\n",
      "2555/2555 [==============================] - 27s 11ms/step - loss: 0.4416 - accuracy: 0.7973 - val_loss: 0.4370 - val_accuracy: 0.7980\n",
      "Epoch 13/50\n",
      "2555/2555 [==============================] - 28s 11ms/step - loss: 0.4410 - accuracy: 0.7974 - val_loss: 0.4357 - val_accuracy: 0.7985\n",
      "Epoch 14/50\n",
      "2555/2555 [==============================] - 28s 11ms/step - loss: 0.4396 - accuracy: 0.7979 - val_loss: 0.4335 - val_accuracy: 0.7991\n",
      "Epoch 15/50\n",
      "2555/2555 [==============================] - 29s 11ms/step - loss: 0.4363 - accuracy: 0.7995 - val_loss: 0.4287 - val_accuracy: 0.8012\n",
      "Epoch 16/50\n",
      "2555/2555 [==============================] - 30s 12ms/step - loss: 0.4301 - accuracy: 0.8012 - val_loss: 0.4226 - val_accuracy: 0.8018\n",
      "Epoch 17/50\n",
      "2555/2555 [==============================] - 28s 11ms/step - loss: 0.4213 - accuracy: 0.8027 - val_loss: 0.4118 - val_accuracy: 0.8055\n",
      "Epoch 18/50\n",
      "2555/2555 [==============================] - 28s 11ms/step - loss: 0.4100 - accuracy: 0.8068 - val_loss: 0.4038 - val_accuracy: 0.8130\n",
      "Epoch 19/50\n",
      "2555/2555 [==============================] - 28s 11ms/step - loss: 0.3950 - accuracy: 0.8166 - val_loss: 0.3802 - val_accuracy: 0.8240\n",
      "Epoch 20/50\n",
      "2555/2555 [==============================] - 28s 11ms/step - loss: 0.3871 - accuracy: 0.8215 - val_loss: 0.3728 - val_accuracy: 0.8300\n",
      "Epoch 21/50\n",
      "2555/2555 [==============================] - 27s 10ms/step - loss: 0.3790 - accuracy: 0.8251 - val_loss: 0.4805 - val_accuracy: 0.7587\n",
      "Epoch 22/50\n",
      "2555/2555 [==============================] - 29s 11ms/step - loss: 0.3494 - accuracy: 0.8339 - val_loss: 0.3263 - val_accuracy: 0.8380\n",
      "Epoch 23/50\n",
      "2555/2555 [==============================] - 28s 11ms/step - loss: 0.3281 - accuracy: 0.8407 - val_loss: 0.3168 - val_accuracy: 0.8470\n",
      "Epoch 24/50\n",
      "2555/2555 [==============================] - 28s 11ms/step - loss: 0.3230 - accuracy: 0.8431 - val_loss: 0.3270 - val_accuracy: 0.8344\n",
      "Epoch 25/50\n",
      "2555/2555 [==============================] - 28s 11ms/step - loss: 0.3210 - accuracy: 0.8430 - val_loss: 0.3154 - val_accuracy: 0.8469\n",
      "Epoch 26/50\n",
      "2555/2555 [==============================] - 28s 11ms/step - loss: 0.3194 - accuracy: 0.8435 - val_loss: 0.3093 - val_accuracy: 0.8496\n",
      "Epoch 27/50\n",
      "2555/2555 [==============================] - 29s 11ms/step - loss: 0.3185 - accuracy: 0.8442 - val_loss: 0.3263 - val_accuracy: 0.8439\n",
      "Epoch 28/50\n",
      "2555/2555 [==============================] - 28s 11ms/step - loss: 0.3175 - accuracy: 0.8449 - val_loss: 0.3223 - val_accuracy: 0.8337\n",
      "Epoch 29/50\n",
      "2555/2555 [==============================] - 29s 11ms/step - loss: 0.3160 - accuracy: 0.8449 - val_loss: 0.3058 - val_accuracy: 0.8483\n",
      "Epoch 30/50\n",
      "2555/2555 [==============================] - 28s 11ms/step - loss: 0.3156 - accuracy: 0.8455 - val_loss: 0.3130 - val_accuracy: 0.8436\n",
      "Epoch 31/50\n",
      "2555/2555 [==============================] - 29s 11ms/step - loss: 0.3146 - accuracy: 0.8464 - val_loss: 0.3166 - val_accuracy: 0.8425\n",
      "Epoch 32/50\n",
      "2555/2555 [==============================] - 28s 11ms/step - loss: 0.3141 - accuracy: 0.8471 - val_loss: 0.3063 - val_accuracy: 0.8502\n",
      "Epoch 33/50\n",
      "2555/2555 [==============================] - 29s 11ms/step - loss: 0.3137 - accuracy: 0.8473 - val_loss: 0.3104 - val_accuracy: 0.8491\n",
      "Epoch 34/50\n",
      "2555/2555 [==============================] - 29s 11ms/step - loss: 0.3129 - accuracy: 0.8480 - val_loss: 0.3060 - val_accuracy: 0.8501\n",
      "Epoch 35/50\n",
      "2555/2555 [==============================] - 29s 11ms/step - loss: 0.3122 - accuracy: 0.8490 - val_loss: 0.3044 - val_accuracy: 0.8530\n",
      "Epoch 36/50\n",
      "2555/2555 [==============================] - 29s 11ms/step - loss: 0.3112 - accuracy: 0.8496 - val_loss: 0.3021 - val_accuracy: 0.8548\n",
      "Epoch 37/50\n",
      "2555/2555 [==============================] - 29s 11ms/step - loss: 0.3097 - accuracy: 0.8508 - val_loss: 0.3062 - val_accuracy: 0.8530\n",
      "Epoch 38/50\n",
      "2555/2555 [==============================] - 29s 11ms/step - loss: 0.3031 - accuracy: 0.8566 - val_loss: 0.2885 - val_accuracy: 0.8668\n",
      "Epoch 39/50\n",
      "2555/2555 [==============================] - 29s 11ms/step - loss: 0.2933 - accuracy: 0.8647 - val_loss: 0.2810 - val_accuracy: 0.8695\n",
      "Epoch 40/50\n",
      "2555/2555 [==============================] - 29s 11ms/step - loss: 0.2900 - accuracy: 0.8662 - val_loss: 0.3304 - val_accuracy: 0.8401\n",
      "Epoch 41/50\n",
      "2555/2555 [==============================] - 29s 11ms/step - loss: 0.2883 - accuracy: 0.8669 - val_loss: 0.2931 - val_accuracy: 0.8640\n",
      "Epoch 42/50\n",
      "2555/2555 [==============================] - 27s 11ms/step - loss: 0.2874 - accuracy: 0.8680 - val_loss: 0.2871 - val_accuracy: 0.8666\n",
      "Epoch 43/50\n",
      "2555/2555 [==============================] - 28s 11ms/step - loss: 0.2863 - accuracy: 0.8675 - val_loss: 0.2928 - val_accuracy: 0.8607\n",
      "Epoch 44/50\n",
      "2555/2555 [==============================] - 29s 11ms/step - loss: 0.2858 - accuracy: 0.8683 - val_loss: 0.2798 - val_accuracy: 0.8707\n",
      "Epoch 45/50\n",
      "2555/2555 [==============================] - 29s 11ms/step - loss: 0.2848 - accuracy: 0.8687 - val_loss: 0.2830 - val_accuracy: 0.8702\n",
      "Epoch 46/50\n",
      "2555/2555 [==============================] - 28s 11ms/step - loss: 0.2842 - accuracy: 0.8693 - val_loss: 0.2803 - val_accuracy: 0.8729\n",
      "Epoch 47/50\n",
      "2555/2555 [==============================] - 29s 11ms/step - loss: 0.2839 - accuracy: 0.8693 - val_loss: 0.2780 - val_accuracy: 0.8712\n",
      "Epoch 48/50\n",
      "2555/2555 [==============================] - 29s 11ms/step - loss: 0.2831 - accuracy: 0.8696 - val_loss: 0.2739 - val_accuracy: 0.8739\n",
      "Epoch 49/50\n",
      "2555/2555 [==============================] - 29s 11ms/step - loss: 0.2826 - accuracy: 0.8702 - val_loss: 0.2754 - val_accuracy: 0.8749\n",
      "Epoch 50/50\n",
      "2555/2555 [==============================] - 29s 11ms/step - loss: 0.2814 - accuracy: 0.8700 - val_loss: 0.2996 - val_accuracy: 0.8505\n"
     ]
    }
   ],
   "source": [
    "history = model.fit(X_train, Y_train,\n",
    "          epochs = 50,\n",
    "          batch_size=128,\n",
    "          validation_split=0.1,\n",
    "          verbose = 1)"
   ]
  },
  {
   "cell_type": "code",
   "execution_count": 39,
   "id": "86e50923-236f-4551-93ae-145fafd1e803",
   "metadata": {},
   "outputs": [
    {
     "data": {
      "image/png": "[encoded data removed]",
      "text/plain": [
       "<Figure size 432x288 with 1 Axes>"
      ]
     },
     "metadata": {
      "needs_background": "light"
     },
     "output_type": "display_data"
    },
    {
     "data": {
      "image/png": "[encoded data removed]",
      "text/plain": [
       "<Figure size 432x288 with 1 Axes>"
      ]
     },
     "metadata": {
      "needs_background": "light"
     },
     "output_type": "display_data"
    }
   ],
   "source": [
    "\n",
    "loss_curve(history)\n",
    "accuracy(history)"
   ]
  },
  {
   "cell_type": "code",
   "execution_count": 40,
   "id": "742021da-3b64-463f-a034-279d566333be",
   "metadata": {},
   "outputs": [
    {
     "name": "stdout",
     "output_type": "stream",
     "text": [
      "Evaluating on Test Dataset\n",
      "accuracy: 84.80%\n"
     ]
    }
   ],
   "source": [
    "print(\"Evaluating on Test Dataset\")\n",
    "scores = model.evaluate(X_test, Y_test, verbose=0)\n",
    "print(\"%s: %.2f%%\" % (model.metrics_names[1], scores[1]*100))"
   ]
  },
  {
   "cell_type": "code",
   "execution_count": 41,
   "id": "7eff0b7a-7c81-4937-bcb4-76ce4a6efa7b",
   "metadata": {},
   "outputs": [
    {
     "ename": "ValueError",
     "evalue": "X has 9 features, but MinMaxScaler is expecting 10 features as input.",
     "output_type": "error",
     "traceback": [
      "\u001b[1;31m---------------------------------------------------------------------------\u001b[0m",
      "\u001b[1;31mValueError\u001b[0m                                Traceback (most recent call last)",
      "\u001b[1;32mC:\\Users\\APURAV~1\\AppData\\Local\\Temp/ipykernel_3908/15605949.py\u001b[0m in \u001b[0;36m<module>\u001b[1;34m\u001b[0m\n\u001b[0;32m      1\u001b[0m \u001b[0mtest\u001b[0m \u001b[1;33m=\u001b[0m \u001b[0mnp\u001b[0m\u001b[1;33m.\u001b[0m\u001b[0marray\u001b[0m\u001b[1;33m(\u001b[0m\u001b[1;33m[\u001b[0m\u001b[1;33m[\u001b[0m\u001b[1;36m2019\u001b[0m\u001b[1;33m,\u001b[0m \u001b[1;36m2\u001b[0m\u001b[1;33m,\u001b[0m \u001b[1;36m11\u001b[0m\u001b[1;33m,\u001b[0m \u001b[1;36m1\u001b[0m\u001b[1;33m,\u001b[0m\u001b[1;36m25\u001b[0m\u001b[1;33m,\u001b[0m \u001b[1;36m49.237994\u001b[0m\u001b[1;33m,\u001b[0m \u001b[1;33m-\u001b[0m\u001b[1;36m123.083282\u001b[0m\u001b[1;33m,\u001b[0m \u001b[0mDistanceToGraffiti\u001b[0m\u001b[1;33m(\u001b[0m\u001b[1;36m49.237994\u001b[0m\u001b[1;33m,\u001b[0m \u001b[1;33m-\u001b[0m\u001b[1;36m123.083282\u001b[0m\u001b[1;33m)\u001b[0m\u001b[1;33m,\u001b[0m \u001b[0mDistanceToFountain\u001b[0m\u001b[1;33m(\u001b[0m\u001b[1;36m49.237994\u001b[0m\u001b[1;33m,\u001b[0m \u001b[1;33m-\u001b[0m\u001b[1;36m123.083282\u001b[0m\u001b[1;33m)\u001b[0m\u001b[1;33m]\u001b[0m\u001b[1;33m]\u001b[0m\u001b[1;33m)\u001b[0m\u001b[1;33m\u001b[0m\u001b[1;33m\u001b[0m\u001b[0m\n\u001b[1;32m----> 2\u001b[1;33m \u001b[0mtest\u001b[0m \u001b[1;33m=\u001b[0m \u001b[0mscaler\u001b[0m\u001b[1;33m.\u001b[0m\u001b[0mtransform\u001b[0m\u001b[1;33m(\u001b[0m\u001b[0mtest\u001b[0m\u001b[1;33m)\u001b[0m\u001b[1;33m\u001b[0m\u001b[1;33m\u001b[0m\u001b[0m\n\u001b[0m\u001b[0;32m      3\u001b[0m \u001b[0mans\u001b[0m \u001b[1;33m=\u001b[0m \u001b[0mmodel\u001b[0m\u001b[1;33m.\u001b[0m\u001b[0mpredict\u001b[0m\u001b[1;33m(\u001b[0m\u001b[0mtest\u001b[0m\u001b[1;33m)\u001b[0m\u001b[1;33m\u001b[0m\u001b[1;33m\u001b[0m\u001b[0m\n\u001b[0;32m      4\u001b[0m \u001b[0mans\u001b[0m\u001b[1;33m\u001b[0m\u001b[1;33m\u001b[0m\u001b[0m\n\u001b[0;32m      5\u001b[0m \u001b[1;33m\u001b[0m\u001b[0m\n",
      "\u001b[1;32mc:\\users\\apurav sharma\\appdata\\local\\programs\\python\\python39\\lib\\site-packages\\sklearn\\preprocessing\\_data.py\u001b[0m in \u001b[0;36mtransform\u001b[1;34m(self, X)\u001b[0m\n\u001b[0;32m    497\u001b[0m         \u001b[0mcheck_is_fitted\u001b[0m\u001b[1;33m(\u001b[0m\u001b[0mself\u001b[0m\u001b[1;33m)\u001b[0m\u001b[1;33m\u001b[0m\u001b[1;33m\u001b[0m\u001b[0m\n\u001b[0;32m    498\u001b[0m \u001b[1;33m\u001b[0m\u001b[0m\n\u001b[1;32m--> 499\u001b[1;33m         X = self._validate_data(\n\u001b[0m\u001b[0;32m    500\u001b[0m             \u001b[0mX\u001b[0m\u001b[1;33m,\u001b[0m\u001b[1;33m\u001b[0m\u001b[1;33m\u001b[0m\u001b[0m\n\u001b[0;32m    501\u001b[0m             \u001b[0mcopy\u001b[0m\u001b[1;33m=\u001b[0m\u001b[0mself\u001b[0m\u001b[1;33m.\u001b[0m\u001b[0mcopy\u001b[0m\u001b[1;33m,\u001b[0m\u001b[1;33m\u001b[0m\u001b[1;33m\u001b[0m\u001b[0m\n",
      "\u001b[1;32mc:\\users\\apurav sharma\\appdata\\local\\programs\\python\\python39\\lib\\site-packages\\sklearn\\base.py\u001b[0m in \u001b[0;36m_validate_data\u001b[1;34m(self, X, y, reset, validate_separately, **check_params)\u001b[0m\n\u001b[0;32m    598\u001b[0m \u001b[1;33m\u001b[0m\u001b[0m\n\u001b[0;32m    599\u001b[0m         \u001b[1;32mif\u001b[0m \u001b[1;32mnot\u001b[0m \u001b[0mno_val_X\u001b[0m \u001b[1;32mand\u001b[0m \u001b[0mcheck_params\u001b[0m\u001b[1;33m.\u001b[0m\u001b[0mget\u001b[0m\u001b[1;33m(\u001b[0m\u001b[1;34m\"ensure_2d\"\u001b[0m\u001b[1;33m,\u001b[0m \u001b[1;32mTrue\u001b[0m\u001b[1;33m)\u001b[0m\u001b[1;33m:\u001b[0m\u001b[1;33m\u001b[0m\u001b[1;33m\u001b[0m\u001b[0m\n\u001b[1;32m--> 600\u001b[1;33m             \u001b[0mself\u001b[0m\u001b[1;33m.\u001b[0m\u001b[0m_check_n_features\u001b[0m\u001b[1;33m(\u001b[0m\u001b[0mX\u001b[0m\u001b[1;33m,\u001b[0m \u001b[0mreset\u001b[0m\u001b[1;33m=\u001b[0m\u001b[0mreset\u001b[0m\u001b[1;33m)\u001b[0m\u001b[1;33m\u001b[0m\u001b[1;33m\u001b[0m\u001b[0m\n\u001b[0m\u001b[0;32m    601\u001b[0m \u001b[1;33m\u001b[0m\u001b[0m\n\u001b[0;32m    602\u001b[0m         \u001b[1;32mreturn\u001b[0m \u001b[0mout\u001b[0m\u001b[1;33m\u001b[0m\u001b[1;33m\u001b[0m\u001b[0m\n",
      "\u001b[1;32mc:\\users\\apurav sharma\\appdata\\local\\programs\\python\\python39\\lib\\site-packages\\sklearn\\base.py\u001b[0m in \u001b[0;36m_check_n_features\u001b[1;34m(self, X, reset)\u001b[0m\n\u001b[0;32m    398\u001b[0m \u001b[1;33m\u001b[0m\u001b[0m\n\u001b[0;32m    399\u001b[0m         \u001b[1;32mif\u001b[0m \u001b[0mn_features\u001b[0m \u001b[1;33m!=\u001b[0m \u001b[0mself\u001b[0m\u001b[1;33m.\u001b[0m\u001b[0mn_features_in_\u001b[0m\u001b[1;33m:\u001b[0m\u001b[1;33m\u001b[0m\u001b[1;33m\u001b[0m\u001b[0m\n\u001b[1;32m--> 400\u001b[1;33m             raise ValueError(\n\u001b[0m\u001b[0;32m    401\u001b[0m                 \u001b[1;34mf\"X has {n_features} features, but {self.__class__.__name__} \"\u001b[0m\u001b[1;33m\u001b[0m\u001b[1;33m\u001b[0m\u001b[0m\n\u001b[0;32m    402\u001b[0m                 \u001b[1;34mf\"is expecting {self.n_features_in_} features as input.\"\u001b[0m\u001b[1;33m\u001b[0m\u001b[1;33m\u001b[0m\u001b[0m\n",
      "\u001b[1;31mValueError\u001b[0m: X has 9 features, but MinMaxScaler is expecting 10 features as input."
     ]
    }
   ],
   "source": [
    "test = np.array([[2019, 2, 11, 1,25, 49.237994, -123.083282, DistanceToGraffiti(49.237994, -123.083282), DistanceToFountain(49.237994, -123.083282)]])\n",
    "test = scaler.transform(test)\n",
    "ans = model.predict(test)\n",
    "ans\n",
    "   "
   ]
  },
  {
   "cell_type": "code",
   "execution_count": 42,
   "id": "1c357e16-8ff4-4c5d-85fc-81151cf2840e",
   "metadata": {},
   "outputs": [
    {
     "name": "stdout",
     "output_type": "stream",
     "text": [
      "1/1 [==============================] - 0s 402ms/step\n"
     ]
    },
    {
     "data": {
      "text/plain": [
       "array([[0.9771702]], dtype=float32)"
      ]
     },
     "execution_count": 42,
     "metadata": {},
     "output_type": "execute_result"
    }
   ],
   "source": [
    "test = np.array([[2012, 6, 4, 22, 2, 49.238019, -123.163815, DistanceToGraffiti(49.238019, -123.163815), DistanceToFountain(49.238019, -123.163815), 57]])\n",
    "test = scaler.transform(test)\n",
    "ans = model.predict(test)\n",
    "ans"
   ]
  },
  {
   "cell_type": "code",
   "execution_count": 43,
   "id": "7e32b4d4-b7ee-40f9-b432-2feff6990d53",
   "metadata": {},
   "outputs": [
    {
     "name": "stdout",
     "output_type": "stream",
     "text": [
      "1/1 [==============================] - 0s 76ms/step\n",
      "Likelihood of crime at 0 hour: 99.46082830429077 %\n",
      "1/1 [==============================] - 0s 59ms/step\n",
      "Likelihood of crime at 1 hour: 96.39050960540771 %\n",
      "1/1 [==============================] - 0s 69ms/step\n",
      "Likelihood of crime at 2 hour: 89.60691690444946 %\n",
      "1/1 [==============================] - 0s 88ms/step\n",
      "Likelihood of crime at 3 hour: 87.88430094718933 %\n",
      "1/1 [==============================] - 0s 98ms/step\n",
      "Likelihood of crime at 4 hour: 92.54114031791687 %\n",
      "1/1 [==============================] - 0s 66ms/step\n",
      "Likelihood of crime at 5 hour: 96.70429825782776 %\n",
      "1/1 [==============================] - 0s 75ms/step\n",
      "Likelihood of crime at 6 hour: 97.59701490402222 %\n",
      "1/1 [==============================] - 0s 62ms/step\n",
      "Likelihood of crime at 7 hour: 98.01601767539978 %\n",
      "1/1 [==============================] - 0s 93ms/step\n",
      "Likelihood of crime at 8 hour: 98.4180748462677 %\n",
      "1/1 [==============================] - 0s 73ms/step\n",
      "Likelihood of crime at 9 hour: 98.73809218406677 %\n",
      "1/1 [==============================] - 0s 67ms/step\n",
      "Likelihood of crime at 10 hour: 98.94948601722717 %\n",
      "1/1 [==============================] - 0s 67ms/step\n",
      "Likelihood of crime at 11 hour: 99.08435344696045 %\n",
      "1/1 [==============================] - 0s 80ms/step\n",
      "Likelihood of crime at 12 hour: 99.17385578155518 %\n",
      "1/1 [==============================] - 0s 47ms/step\n",
      "Likelihood of crime at 13 hour: 99.23633337020874 %\n",
      "1/1 [==============================] - 0s 66ms/step\n",
      "Likelihood of crime at 14 hour: 99.28176403045654 %\n",
      "1/1 [==============================] - 0s 90ms/step\n",
      "Likelihood of crime at 15 hour: 99.31581020355225 %\n",
      "1/1 [==============================] - 0s 72ms/step\n",
      "Likelihood of crime at 16 hour: 99.34192895889282 %\n",
      "1/1 [==============================] - 0s 85ms/step\n",
      "Likelihood of crime at 17 hour: 99.36236143112183 %\n",
      "1/1 [==============================] - 0s 62ms/step\n",
      "Likelihood of crime at 18 hour: 99.37863945960999 %\n",
      "1/1 [==============================] - 0s 60ms/step\n",
      "Likelihood of crime at 19 hour: 99.3918240070343 %\n",
      "1/1 [==============================] - 0s 69ms/step\n",
      "Likelihood of crime at 20 hour: 99.40269589424133 %\n",
      "1/1 [==============================] - 0s 65ms/step\n",
      "Likelihood of crime at 21 hour: 99.41179752349854 %\n",
      "1/1 [==============================] - 0s 71ms/step\n",
      "Likelihood of crime at 22 hour: 99.41954016685486 %\n",
      "1/1 [==============================] - 0s 81ms/step\n",
      "Likelihood of crime at 23 hour: 99.42622780799866 %\n",
      "1/1 [==============================] - 0s 100ms/step\n",
      "Likelihood of crime at 24 hour: 99.43208694458008 %\n"
     ]
    }
   ],
   "source": [
    "for i in range(0, 25):\n",
    "  test = np.array([[2012, 6, 4, i, 2, 49.284645, -123.136306, DistanceToGraffiti(49.284645, -123.136306), DistanceToFountain(49.284645, -123.136306), 57]])\n",
    "  test = scaler.transform(test)\n",
    "  ans = model.predict(test)\n",
    "  print(\"Likelihood of crime at \" + str(i) + \" hour: \" + str(ans[0][0]*100) + \" %\") "
   ]
  },
  {
   "cell_type": "code",
   "execution_count": 44,
   "id": "0979a40e-ed89-4df0-9a64-8a998ae44c8d",
   "metadata": {},
   "outputs": [
    {
     "name": "stdout",
     "output_type": "stream",
     "text": [
      "1/1 [==============================] - 0s 70ms/step\n",
      "Likelihood of crime at 0 hour: 99.53874349594116 %\n",
      "1/1 [==============================] - 0s 65ms/step\n",
      "Likelihood of crime at 1 hour: 97.31267094612122 %\n",
      "1/1 [==============================] - 0s 72ms/step\n",
      "Likelihood of crime at 2 hour: 91.20482802391052 %\n",
      "1/1 [==============================] - 0s 70ms/step\n",
      "Likelihood of crime at 3 hour: 89.80437517166138 %\n",
      "1/1 [==============================] - 0s 74ms/step\n",
      "Likelihood of crime at 4 hour: 94.38503384590149 %\n",
      "1/1 [==============================] - 0s 79ms/step\n",
      "Likelihood of crime at 5 hour: 97.47834801673889 %\n",
      "1/1 [==============================] - 0s 65ms/step\n",
      "Likelihood of crime at 6 hour: 98.11665415763855 %\n",
      "1/1 [==============================] - 0s 87ms/step\n",
      "Likelihood of crime at 7 hour: 98.44561815261841 %\n",
      "1/1 [==============================] - 0s 75ms/step\n",
      "Likelihood of crime at 8 hour: 98.74921441078186 %\n",
      "1/1 [==============================] - 0s 71ms/step\n",
      "Likelihood of crime at 9 hour: 98.9757776260376 %\n",
      "1/1 [==============================] - 0s 81ms/step\n",
      "Likelihood of crime at 10 hour: 99.11924600601196 %\n",
      "1/1 [==============================] - 0s 74ms/step\n",
      "Likelihood of crime at 11 hour: 99.20865297317505 %\n",
      "1/1 [==============================] - 0s 59ms/step\n",
      "Likelihood of crime at 12 hour: 99.26717281341553 %\n",
      "1/1 [==============================] - 0s 83ms/step\n",
      "Likelihood of crime at 13 hour: 99.30769801139832 %\n",
      "1/1 [==============================] - 0s 78ms/step\n",
      "Likelihood of crime at 14 hour: 99.3370771408081 %\n",
      "1/1 [==============================] - 0s 84ms/step\n",
      "Likelihood of crime at 15 hour: 99.35911297798157 %\n",
      "1/1 [==============================] - 0s 78ms/step\n",
      "Likelihood of crime at 16 hour: 99.3760883808136 %\n",
      "1/1 [==============================] - 0s 64ms/step\n",
      "Likelihood of crime at 17 hour: 99.3894636631012 %\n",
      "1/1 [==============================] - 0s 68ms/step\n",
      "Likelihood of crime at 18 hour: 99.4002103805542 %\n",
      "1/1 [==============================] - 0s 63ms/step\n",
      "Likelihood of crime at 19 hour: 99.40902590751648 %\n",
      "1/1 [==============================] - 0s 64ms/step\n",
      "Likelihood of crime at 20 hour: 99.41639304161072 %\n",
      "1/1 [==============================] - 0s 75ms/step\n",
      "Likelihood of crime at 21 hour: 99.42265748977661 %\n",
      "1/1 [==============================] - 0s 93ms/step\n",
      "Likelihood of crime at 22 hour: 99.42808151245117 %\n",
      "1/1 [==============================] - 0s 58ms/step\n",
      "Likelihood of crime at 23 hour: 99.43286776542664 %\n",
      "1/1 [==============================] - 0s 76ms/step\n",
      "Likelihood of crime at 24 hour: 99.43714737892151 %\n"
     ]
    }
   ],
   "source": [
    "for i in range(0, 25):\n",
    "  test = np.array([[2012, 6, 4, i, 2, 49.289599, -123.136649, DistanceToGraffiti(49.289599, -123.136649), DistanceToFountain(49.289599, -123.136649), 57]])\n",
    "  test = scaler.transform(test)\n",
    "  ans = model.predict(test)\n",
    "  print(\"Likelihood of crime at \" + str(i) + \" hour: \" + str(ans[0][0]*100) + \" %\") "
   ]
  }
 ],
 "metadata": {
  "kernelspec": {
   "display_name": "Python 3 (ipykernel)",
   "language": "python",
   "name": "python3"
  },
  "language_info": {
   "codemirror_mode": {
    "name": "ipython",
    "version": 3
   },
   "file_extension": ".py",
   "mimetype": "text/x-python",
   "name": "python",
   "nbconvert_exporter": "python",
   "pygments_lexer": "ipython3",
   "version": "3.9.6"
  }
 },
 "nbformat": 4,
 "nbformat_minor": 5
}
